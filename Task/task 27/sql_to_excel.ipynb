{
 "cells": [
  {
   "cell_type": "code",
   "execution_count": 1,
   "id": "694011b6",
   "metadata": {},
   "outputs": [
    {
     "name": "stdout",
     "output_type": "stream",
     "text": [
      "Defaulting to user installation because normal site-packages is not writeable\n",
      "Collecting mysql.connector\n",
      "  Downloading mysql-connector-2.2.9.tar.gz (11.9 MB)\n",
      "\u001b[2K     \u001b[38;2;114;156;31m━━━━━━━━━━━━━━━━━━━━━━━━━━━━━━━━━━━━━━━━\u001b[0m \u001b[32m11.9/11.9 MB\u001b[0m \u001b[31m3.5 MB/s\u001b[0m eta \u001b[36m0:00:00\u001b[0mm eta \u001b[36m0:00:01\u001b[0m[36m0:00:01\u001b[0mm\n",
      "\u001b[?25h  Installing build dependencies ... \u001b[?25ldone\n",
      "\u001b[?25h  Getting requirements to build wheel ... \u001b[?25ldone\n",
      "\u001b[?25h  Preparing metadata (pyproject.toml) ... \u001b[?25ldone\n",
      "\u001b[?25hBuilding wheels for collected packages: mysql.connector\n",
      "  Building wheel for mysql.connector (pyproject.toml) ... \u001b[?25ldone\n",
      "\u001b[?25h  Created wheel for mysql.connector: filename=mysql_connector-2.2.9-cp310-cp310-linux_x86_64.whl size=247953 sha256=8472c1ffa5302391583b1f5a1fcae5979511374f1b7c42fde6d37749c89f59a6\n",
      "  Stored in directory: /home/aryan/.cache/pip/wheels/76/48/9b/da67ff1a18fe8e9d428f9b1a177716d4a7d363d2bbe83bf6cf\n",
      "Successfully built mysql.connector\n",
      "Installing collected packages: mysql.connector\n",
      "Successfully installed mysql.connector-2.2.9\n"
     ]
    }
   ],
   "source": [
    "!pip install mysql.connector\n"
   ]
  },
  {
   "cell_type": "code",
   "execution_count": 3,
   "id": "5c6d0178",
   "metadata": {},
   "outputs": [],
   "source": [
    "import mysql.connector\n",
    "import pandas as pd"
   ]
  },
  {
   "cell_type": "code",
   "execution_count": 5,
   "id": "209136ba",
   "metadata": {},
   "outputs": [],
   "source": [
    "conn=mysql.connector.connect(host='localhost',user='root',password='',database='supermarket')"
   ]
  },
  {
   "cell_type": "code",
   "execution_count": 9,
   "id": "71f2dd61",
   "metadata": {},
   "outputs": [
    {
     "name": "stderr",
     "output_type": "stream",
     "text": [
      "/tmp/ipykernel_81114/2276782497.py:1: UserWarning: pandas only supports SQLAlchemy connectable (engine/connection) or database string URI or sqlite3 DBAPI2 connection. Other DBAPI2 objects are not tested. Please consider using SQLAlchemy.\n",
      "  st1=pd.read_sql_query(\"SELECT * FROM invoices\",conn)# we use WHERE , LIKE, < etc\n",
      "/tmp/ipykernel_81114/2276782497.py:2: UserWarning: pandas only supports SQLAlchemy connectable (engine/connection) or database string URI or sqlite3 DBAPI2 connection. Other DBAPI2 objects are not tested. Please consider using SQLAlchemy.\n",
      "  st2=pd.read_sql_query('SELECT * FROM order_leads',conn)\n",
      "/tmp/ipykernel_81114/2276782497.py:3: UserWarning: pandas only supports SQLAlchemy connectable (engine/connection) or database string URI or sqlite3 DBAPI2 connection. Other DBAPI2 objects are not tested. Please consider using SQLAlchemy.\n",
      "  st3=pd.read_sql_query(\"SElECT * FROM sales_sql\",conn)\n"
     ]
    }
   ],
   "source": [
    "st1=pd.read_sql_query(\"SELECT * FROM invoices\",conn)# we use WHERE , LIKE, < etc\n",
    "st2=pd.read_sql_query('SELECT * FROM order_leads',conn)\n",
    "st3=pd.read_sql_query(\"SElECT * FROM sales_sql\",conn)"
   ]
  },
  {
   "cell_type": "code",
   "execution_count": 12,
   "id": "3a2e4b31",
   "metadata": {},
   "outputs": [],
   "source": [
    "with pd.ExcelWriter('supermarket.xlsx') as wr:\n",
    "    st1.to_excel(wr, sheet_name='sheet 1')\n",
    "    st2.to_excel(wr, sheet_name='sheet 2')\n",
    "    st3.to_excel(wr, sheet_name='sheet 3')"
   ]
  },
  {
   "cell_type": "code",
   "execution_count": null,
   "id": "2a99bd4f",
   "metadata": {},
   "outputs": [],
   "source": []
  }
 ],
 "metadata": {
  "kernelspec": {
   "display_name": "Python 3 (ipykernel)",
   "language": "python",
   "name": "python3"
  },
  "language_info": {
   "codemirror_mode": {
    "name": "ipython",
    "version": 3
   },
   "file_extension": ".py",
   "mimetype": "text/x-python",
   "name": "python",
   "nbconvert_exporter": "python",
   "pygments_lexer": "ipython3",
   "version": "3.10.12"
  }
 },
 "nbformat": 4,
 "nbformat_minor": 5
}
