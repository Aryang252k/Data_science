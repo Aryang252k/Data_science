{
 "cells": [
  {
   "cell_type": "code",
   "execution_count": 5,
   "id": "f1a07a34",
   "metadata": {},
   "outputs": [],
   "source": [
    "import requests\n",
    "import pandas as pd\n",
    "from time import sleep\n",
    "from IPython.display import clear_output\n",
    "import creds"
   ]
  },
  {
   "cell_type": "code",
   "execution_count": 6,
   "id": "81b1a85c",
   "metadata": {},
   "outputs": [
    {
     "data": {
      "text/html": [
       "<div>\n",
       "<style scoped>\n",
       "    .dataframe tbody tr th:only-of-type {\n",
       "        vertical-align: middle;\n",
       "    }\n",
       "\n",
       "    .dataframe tbody tr th {\n",
       "        vertical-align: top;\n",
       "    }\n",
       "\n",
       "    .dataframe thead th {\n",
       "        text-align: right;\n",
       "    }\n",
       "</style>\n",
       "<table border=\"1\" class=\"dataframe\">\n",
       "  <thead>\n",
       "    <tr style=\"text-align: right;\">\n",
       "      <th></th>\n",
       "      <th>country</th>\n",
       "      <th>city</th>\n",
       "    </tr>\n",
       "  </thead>\n",
       "  <tbody>\n",
       "    <tr>\n",
       "      <th>0</th>\n",
       "      <td>Andorra</td>\n",
       "      <td>Ansalonga</td>\n",
       "    </tr>\n",
       "    <tr>\n",
       "      <th>1</th>\n",
       "      <td>Andorra</td>\n",
       "      <td>Anyós</td>\n",
       "    </tr>\n",
       "    <tr>\n",
       "      <th>2</th>\n",
       "      <td>Andorra</td>\n",
       "      <td>Arans</td>\n",
       "    </tr>\n",
       "    <tr>\n",
       "      <th>3</th>\n",
       "      <td>Andorra</td>\n",
       "      <td>Arinsal</td>\n",
       "    </tr>\n",
       "    <tr>\n",
       "      <th>4</th>\n",
       "      <td>Andorra</td>\n",
       "      <td>Aubinyà</td>\n",
       "    </tr>\n",
       "  </tbody>\n",
       "</table>\n",
       "</div>"
      ],
      "text/plain": [
       "   country       city\n",
       "0  Andorra  Ansalonga\n",
       "1  Andorra      Anyós\n",
       "2  Andorra      Arans\n",
       "3  Andorra    Arinsal\n",
       "4  Andorra    Aubinyà"
      ]
     },
     "execution_count": 6,
     "metadata": {},
     "output_type": "execute_result"
    }
   ],
   "source": [
    "\n",
    "\n",
    "url = \"https://wft-geo-db.p.rapidapi.com/v1/geo/cities?offset=5\" # add offset=num\n",
    "\n",
    "headers = {\n",
    "\t\"X-RapidAPI-Key\": creds.api_key,\n",
    "\t\"X-RapidAPI-Host\": \"wft-geo-db.p.rapidapi.com\"\n",
    "}\n",
    "response = requests.get(url, headers=headers)\n",
    "\n",
    "df=pd.DataFrame(response.json()['data'])[['country','city']]\n",
    "df"
   ]
  },
  {
   "cell_type": "code",
   "execution_count": 7,
   "id": "b259e921",
   "metadata": {},
   "outputs": [
    {
     "name": "stdout",
     "output_type": "stream",
     "text": [
      "859 Completed\n",
      "Completed!\n"
     ]
    }
   ],
   "source": [
    "headers = {\n",
    "\t\"X-RapidAPI-Key\": creds.api_key,\n",
    "\t\"X-RapidAPI-Host\": \"wft-geo-db.p.rapidapi.com\"\n",
    "}\n",
    "df1= pd.DataFrame()\n",
    "for i in range(0,543934) :\n",
    "    try:\n",
    "        url = \"https://wft-geo-db.p.rapidapi.com/v1/geo/cities?offset={}\".format(i)\n",
    "        response=requests.get(url,headers= headers)\n",
    "        temp_df= pd.DataFrame(response.json()['data'])[[\"country\",'city']]\n",
    "    except KeyError:\n",
    "        print(\"Completed!\")\n",
    "        break\n",
    "    \n",
    "    df1=pd.concat([df1,temp_df],ignore_index=True)\n",
    "    sleep(0.8)\n",
    "    clear_output(wait=True)\n",
    "    print(f\"{i} Completed\")\n",
    "        "
   ]
  },
  {
   "cell_type": "code",
   "execution_count": 8,
   "id": "a9bb6772",
   "metadata": {},
   "outputs": [],
   "source": [
    "df1.drop_duplicates(inplace=True)\n",
    "temp=df1.reset_index()\n",
    "temp.drop(['index'],axis=1,inplace=True)\n",
    "df1=temp\n"
   ]
  },
  {
   "cell_type": "code",
   "execution_count": null,
   "id": "372a185b",
   "metadata": {},
   "outputs": [],
   "source": [
    "!pip install pymysql\n",
    "!pip install sqlalchemy"
   ]
  },
  {
   "cell_type": "code",
   "execution_count": 18,
   "id": "b9f68515",
   "metadata": {},
   "outputs": [],
   "source": [
    "import pymysql\n",
    "from sqlalchemy import create_engine"
   ]
  },
  {
   "cell_type": "code",
   "execution_count": 53,
   "id": "5fa9d670",
   "metadata": {},
   "outputs": [
    {
     "data": {
      "text/plain": [
       "499"
      ]
     },
     "execution_count": 53,
     "metadata": {},
     "output_type": "execute_result"
    }
   ],
   "source": [
    "engine= create_engine(\"mysql+pymysql://root:@localhost/Country_city_name\")#mysql+pymysql://{root}:{password}@{url}/{database}\n",
    "df1.to_sql(\"Country_city_name\",con=engine,if_exists='replace')"
   ]
  },
  {
   "cell_type": "code",
   "execution_count": 54,
   "id": "bd910a45",
   "metadata": {},
   "outputs": [
    {
     "data": {
      "text/plain": [
       "(499, 2)"
      ]
     },
     "execution_count": 54,
     "metadata": {},
     "output_type": "execute_result"
    }
   ],
   "source": [
    "df1.shape"
   ]
  },
  {
   "cell_type": "code",
   "execution_count": null,
   "id": "2f52a793",
   "metadata": {},
   "outputs": [],
   "source": []
  }
 ],
 "metadata": {
  "kernelspec": {
   "display_name": "Python 3 (ipykernel)",
   "language": "python",
   "name": "python3"
  },
  "language_info": {
   "codemirror_mode": {
    "name": "ipython",
    "version": 3
   },
   "file_extension": ".py",
   "mimetype": "text/x-python",
   "name": "python",
   "nbconvert_exporter": "python",
   "pygments_lexer": "ipython3",
   "version": "3.10.12"
  }
 },
 "nbformat": 4,
 "nbformat_minor": 5
}
