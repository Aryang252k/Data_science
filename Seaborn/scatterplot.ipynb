{
 "cells": [
  {
   "cell_type": "code",
   "execution_count": 6,
   "id": "b5f24e2d",
   "metadata": {},
   "outputs": [],
   "source": [
    "import seaborn as sns\n",
    "import matplotlib.pyplot as plt\n",
    "import numpy as np\n",
    "import pandas as pd\n"
   ]
  },
  {
   "cell_type": "code",
   "execution_count": 12,
   "id": "9c2cbed5",
   "metadata": {},
   "outputs": [],
   "source": [
    "plt.style.use('fivethirtyeight')"
   ]
  },
  {
   "cell_type": "code",
   "execution_count": 25,
   "id": "0ca69d91",
   "metadata": {},
   "outputs": [
    {
     "data": {
      "text/html": [
       "<div>\n",
       "<style scoped>\n",
       "    .dataframe tbody tr th:only-of-type {\n",
       "        vertical-align: middle;\n",
       "    }\n",
       "\n",
       "    .dataframe tbody tr th {\n",
       "        vertical-align: top;\n",
       "    }\n",
       "\n",
       "    .dataframe thead th {\n",
       "        text-align: right;\n",
       "    }\n",
       "</style>\n",
       "<table border=\"1\" class=\"dataframe\">\n",
       "  <thead>\n",
       "    <tr style=\"text-align: right;\">\n",
       "      <th></th>\n",
       "      <th>0</th>\n",
       "      <th>1</th>\n",
       "      <th>2</th>\n",
       "      <th>3</th>\n",
       "      <th>4</th>\n",
       "      <th>5</th>\n",
       "      <th>6</th>\n",
       "      <th>7</th>\n",
       "      <th>8</th>\n",
       "      <th>9</th>\n",
       "      <th>...</th>\n",
       "      <th>1888</th>\n",
       "      <th>1889</th>\n",
       "      <th>1890</th>\n",
       "      <th>1891</th>\n",
       "      <th>1892</th>\n",
       "      <th>1893</th>\n",
       "      <th>1894</th>\n",
       "      <th>1895</th>\n",
       "      <th>1896</th>\n",
       "      <th>1897</th>\n",
       "    </tr>\n",
       "  </thead>\n",
       "  <tbody>\n",
       "    <tr>\n",
       "      <th>0</th>\n",
       "      <td>{\"payload\":{\"allShortcutsEnabled\":false</td>\n",
       "      <td>fileTree:{\"\":{\"items\":[{\"name\":\"png\"</td>\n",
       "      <td>path:\"png\"</td>\n",
       "      <td>contentType:\"directory\"}</td>\n",
       "      <td>{\"name\":\"process\"</td>\n",
       "      <td>path:\"process\"</td>\n",
       "      <td>contentType:\"directory\"}</td>\n",
       "      <td>{\"name\":\"raw\"</td>\n",
       "      <td>path:\"raw\"</td>\n",
       "      <td>contentType:\"directory\"}</td>\n",
       "      <td>...</td>\n",
       "      <td>truncated:false</td>\n",
       "      <td>viewable:true</td>\n",
       "      <td>workflowRedirectUrl:null</td>\n",
       "      <td>symbols:{\"timedOut\":false</td>\n",
       "      <td>notAnalyzed:true</td>\n",
       "      <td>symbols:[]}}</td>\n",
       "      <td>copilotInfo:null</td>\n",
       "      <td>csrf_tokens:{\"/mwaskom/seaborn-data/branches\":...</td>\n",
       "      <td>/repos/preferences:{\"post\":\"kPO76NypaaJUT-iapm...</td>\n",
       "      <td>title:\"seaborn-data/tips.csv at master · mwask...</td>\n",
       "    </tr>\n",
       "  </tbody>\n",
       "</table>\n",
       "<p>1 rows × 1898 columns</p>\n",
       "</div>"
      ],
      "text/plain": [
       "                                      0     \\\n",
       "0  {\"payload\":{\"allShortcutsEnabled\":false   \n",
       "\n",
       "                                   1           2                         3     \\\n",
       "0  fileTree:{\"\":{\"items\":[{\"name\":\"png\"  path:\"png\"  contentType:\"directory\"}   \n",
       "\n",
       "                4               5                         6              7     \\\n",
       "0  {\"name\":\"process\"  path:\"process\"  contentType:\"directory\"}  {\"name\":\"raw\"   \n",
       "\n",
       "         8                         9     ...             1888           1889  \\\n",
       "0  path:\"raw\"  contentType:\"directory\"}  ...  truncated:false  viewable:true   \n",
       "\n",
       "                       1890                       1891              1892  \\\n",
       "0  workflowRedirectUrl:null  symbols:{\"timedOut\":false  notAnalyzed:true   \n",
       "\n",
       "           1893              1894  \\\n",
       "0  symbols:[]}}  copilotInfo:null   \n",
       "\n",
       "                                                1895  \\\n",
       "0  csrf_tokens:{\"/mwaskom/seaborn-data/branches\":...   \n",
       "\n",
       "                                                1896  \\\n",
       "0  /repos/preferences:{\"post\":\"kPO76NypaaJUT-iapm...   \n",
       "\n",
       "                                                1897  \n",
       "0  title:\"seaborn-data/tips.csv at master · mwask...  \n",
       "\n",
       "[1 rows x 1898 columns]"
      ]
     },
     "execution_count": 25,
     "metadata": {},
     "output_type": "execute_result"
    }
   ],
   "source": [
    "import requests\n",
    "from io import StringIO\n",
    "url=\"tips.csv\"\n",
    "headers={\"user-agent\":\"Mozilla/5.0(Linux;HP Pavilion g series; rv:66.0) Gecko/20100101 Firefox/66.0\"}\n",
    "req=requests.get(url,headers=headers)\n",
    "data=StringIO(req.text)\n",
    "data=pd.read_csv(data)\n",
    "data\n"
   ]
  },
  {
   "cell_type": "code",
   "execution_count": null,
   "id": "ff30e54c",
   "metadata": {},
   "outputs": [],
   "source": [
    "sns.relplot(x='total_bill',y='tip',kind='scatter',data=data)"
   ]
  },
  {
   "cell_type": "code",
   "execution_count": null,
   "id": "da65faa5",
   "metadata": {},
   "outputs": [],
   "source": [
    "# hue parameter\n",
    "sns.relplot(x='total_bill',y='tip',hue='smoker',data=data)"
   ]
  },
  {
   "cell_type": "code",
   "execution_count": null,
   "id": "747a2612",
   "metadata": {},
   "outputs": [],
   "source": [
    "# style parameter\n",
    "sns.relplot(x='total_bill',y='tip',hue='smoker',style='sex',data=data)"
   ]
  },
  {
   "cell_type": "code",
   "execution_count": null,
   "id": "0d061cb6",
   "metadata": {},
   "outputs": [],
   "source": [
    "# the size parameter\n",
    "sns.relplot(x='total_bill',y='tip',hue='smoker',style='sex',size='size',sizes=(15,200),data=data)\n",
    "\n",
    "\n"
   ]
  },
  {
   "cell_type": "code",
   "execution_count": 5,
   "id": "0b3d352d",
   "metadata": {},
   "outputs": [
    {
     "ename": "NameError",
     "evalue": "name 'sns' is not defined",
     "output_type": "error",
     "traceback": [
      "\u001b[0;31m---------------------------------------------------------------------------\u001b[0m",
      "\u001b[0;31mNameError\u001b[0m                                 Traceback (most recent call last)",
      "Cell \u001b[0;32mIn[5], line 1\u001b[0m\n\u001b[0;32m----> 1\u001b[0m \u001b[43msns\u001b[49m\u001b[38;5;241m.\u001b[39mrelplot(x\u001b[38;5;241m=\u001b[39m\u001b[38;5;124m'\u001b[39m\u001b[38;5;124mtotal_bill\u001b[39m\u001b[38;5;124m'\u001b[39m,y\u001b[38;5;241m=\u001b[39m\u001b[38;5;124m'\u001b[39m\u001b[38;5;124mtip\u001b[39m\u001b[38;5;124m'\u001b[39m,hue\u001b[38;5;241m=\u001b[39m\u001b[38;5;124m'\u001b[39m\u001b[38;5;124msmoker\u001b[39m\u001b[38;5;124m'\u001b[39m,data\u001b[38;5;241m=\u001b[39mdata)\n",
      "\u001b[0;31mNameError\u001b[0m: name 'sns' is not defined"
     ]
    }
   ],
   "source": [
    "\n",
    "sns.relplot(x='total_bill',y='tip',hue='smoker',data=data)"
   ]
  },
  {
   "cell_type": "code",
   "execution_count": null,
   "id": "9ced6fbc",
   "metadata": {},
   "outputs": [],
   "source": []
  }
 ],
 "metadata": {
  "kernelspec": {
   "display_name": "Python 3 (ipykernel)",
   "language": "python",
   "name": "python3"
  },
  "language_info": {
   "codemirror_mode": {
    "name": "ipython",
    "version": 3
   },
   "file_extension": ".py",
   "mimetype": "text/x-python",
   "name": "python",
   "nbconvert_exporter": "python",
   "pygments_lexer": "ipython3",
   "version": "3.10.12"
  }
 },
 "nbformat": 4,
 "nbformat_minor": 5
}
