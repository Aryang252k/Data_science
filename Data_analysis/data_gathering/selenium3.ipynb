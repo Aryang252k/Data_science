{
 "cells": [
  {
   "cell_type": "code",
   "execution_count": 9,
   "id": "4025ec1c",
   "metadata": {},
   "outputs": [
    {
     "name": "stdout",
     "output_type": "stream",
     "text": [
      "51\n",
      "Completed!\n"
     ]
    }
   ],
   "source": [
    "from selenium import webdriver\n",
    "from selenium.webdriver.firefox.service import Service\n",
    "from selenium.webdriver.common.by import By\n",
    "from time import sleep\n",
    "from IPython.display import clear_output\n",
    "\n",
    "sr=Service('/snap/bin/firefox.geckodriver')\n",
    "driver=webdriver.Firefox(service=sr)\n",
    "driver.get('https://www.smartprix.com/mobiles/exclude_out_of_stock-stock')\n",
    "sleep(2)\n",
    "old_height=driver.execute_script('return document.body.scrollHeight')\n",
    "cnt=1\n",
    "#new_height=driver.execute_script('window.scrollTo(0,document.body.scrollHeight)') To scroll \n",
    "while True:\n",
    "    print(cnt)\n",
    "    driver.find_element(by=By.XPATH,value='/html/body/div[1]/main/div[1]/div[2]/div[3]').click() # first load\n",
    "    sleep(2)\n",
    "    new_height=driver.execute_script('return document.body.scrollHeight') # return height of page , increased height after load\n",
    "    cnt+=1\n",
    "    if old_height==new_height:\n",
    "        print(\"Completed!\")\n",
    "        break\n",
    "    old_height=new_height\n",
    "    clear_output(wait=True)\n",
    "html=driver.page_source\n",
    "with open(\"smartphones.html\",'w',encoding='utf-8') as f:\n",
    "    f.write(html)"
   ]
  },
  {
   "cell_type": "code",
   "execution_count": null,
   "id": "475a8590",
   "metadata": {},
   "outputs": [],
   "source": []
  }
 ],
 "metadata": {
  "kernelspec": {
   "display_name": "Python 3 (ipykernel)",
   "language": "python",
   "name": "python3"
  },
  "language_info": {
   "codemirror_mode": {
    "name": "ipython",
    "version": 3
   },
   "file_extension": ".py",
   "mimetype": "text/x-python",
   "name": "python",
   "nbconvert_exporter": "python",
   "pygments_lexer": "ipython3",
   "version": "3.10.12"
  }
 },
 "nbformat": 4,
 "nbformat_minor": 5
}
