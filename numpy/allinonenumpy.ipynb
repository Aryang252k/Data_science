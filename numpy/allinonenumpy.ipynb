{
 "cells": [
  {
   "cell_type": "code",
   "execution_count": 1,
   "id": "fb60c1f2",
   "metadata": {},
   "outputs": [
    {
     "name": "stdout",
     "output_type": "stream",
     "text": [
      "Defaulting to user installation because normal site-packages is not writeable\n",
      "Requirement already satisfied: numpy in /home/aryan/.local/lib/python3.10/site-packages (1.25.1)\n",
      "\n",
      "\u001b[1m[\u001b[0m\u001b[34;49mnotice\u001b[0m\u001b[1;39;49m]\u001b[0m\u001b[39;49m A new release of pip is available: \u001b[0m\u001b[31;49m23.1.2\u001b[0m\u001b[39;49m -> \u001b[0m\u001b[32;49m23.2.1\u001b[0m\n",
      "\u001b[1m[\u001b[0m\u001b[34;49mnotice\u001b[0m\u001b[1;39;49m]\u001b[0m\u001b[39;49m To update, run: \u001b[0m\u001b[32;49mpython3 -m pip install --upgrade pip\u001b[0m\n"
     ]
    }
   ],
   "source": [
    "!pip install numpy\n",
    "\n"
   ]
  },
  {
   "cell_type": "code",
   "execution_count": 2,
   "id": "dc387129",
   "metadata": {},
   "outputs": [],
   "source": [
    "import numpy as np"
   ]
  },
  {
   "cell_type": "code",
   "execution_count": 3,
   "id": "69855121",
   "metadata": {},
   "outputs": [
    {
     "data": {
      "text/plain": [
       "'1.25.1'"
      ]
     },
     "execution_count": 3,
     "metadata": {},
     "output_type": "execute_result"
    }
   ],
   "source": [
    "np.__version__\n"
   ]
  },
  {
   "cell_type": "code",
   "execution_count": 4,
   "id": "9314c112",
   "metadata": {},
   "outputs": [],
   "source": [
    "arr=np.zeros(10)"
   ]
  },
  {
   "cell_type": "code",
   "execution_count": 5,
   "id": "222a1cfe",
   "metadata": {},
   "outputs": [
    {
     "data": {
      "text/plain": [
       "array([0., 0., 0., 0., 0., 0., 0., 0., 0., 0.])"
      ]
     },
     "execution_count": 5,
     "metadata": {},
     "output_type": "execute_result"
    }
   ],
   "source": [
    "arr"
   ]
  },
  {
   "cell_type": "code",
   "execution_count": 6,
   "id": "74d05cbd",
   "metadata": {},
   "outputs": [
    {
     "data": {
      "text/plain": [
       "80"
      ]
     },
     "execution_count": 6,
     "metadata": {},
     "output_type": "execute_result"
    }
   ],
   "source": [
    "arr1=np.arange(10)\n",
    "\n",
    "arr1.itemsize*arr1.size"
   ]
  },
  {
   "cell_type": "code",
   "execution_count": 7,
   "id": "3d8a85f2",
   "metadata": {},
   "outputs": [
    {
     "name": "stdout",
     "output_type": "stream",
     "text": [
      "add(x1, x2, /, out=None, *, where=True, casting='same_kind', order='K', dtype=None, subok=True[, signature, extobj])\n",
      "\n",
      "Add arguments element-wise.\n",
      "\n",
      "Parameters\n",
      "----------\n",
      "x1, x2 : array_like\n",
      "    The arrays to be added.\n",
      "    If ``x1.shape != x2.shape``, they must be broadcastable to a common\n",
      "    shape (which becomes the shape of the output).\n",
      "out : ndarray, None, or tuple of ndarray and None, optional\n",
      "    A location into which the result is stored. If provided, it must have\n",
      "    a shape that the inputs broadcast to. If not provided or None,\n",
      "    a freshly-allocated array is returned. A tuple (possible only as a\n",
      "    keyword argument) must have length equal to the number of outputs.\n",
      "where : array_like, optional\n",
      "    This condition is broadcast over the input. At locations where the\n",
      "    condition is True, the `out` array will be set to the ufunc result.\n",
      "    Elsewhere, the `out` array will retain its original value.\n",
      "    Note that if an uninitialized `out` array is created via the default\n",
      "    ``out=None``, locations within it where the condition is False will\n",
      "    remain uninitialized.\n",
      "**kwargs\n",
      "    For other keyword-only arguments, see the\n",
      "    :ref:`ufunc docs <ufuncs.kwargs>`.\n",
      "\n",
      "Returns\n",
      "-------\n",
      "add : ndarray or scalar\n",
      "    The sum of `x1` and `x2`, element-wise.\n",
      "    This is a scalar if both `x1` and `x2` are scalars.\n",
      "\n",
      "Notes\n",
      "-----\n",
      "Equivalent to `x1` + `x2` in terms of array broadcasting.\n",
      "\n",
      "Examples\n",
      "--------\n",
      ">>> np.add(1.0, 4.0)\n",
      "5.0\n",
      ">>> x1 = np.arange(9.0).reshape((3, 3))\n",
      ">>> x2 = np.arange(3.0)\n",
      ">>> np.add(x1, x2)\n",
      "array([[  0.,   2.,   4.],\n",
      "       [  3.,   5.,   7.],\n",
      "       [  6.,   8.,  10.]])\n",
      "\n",
      "The ``+`` operator can be used as a shorthand for ``np.add`` on ndarrays.\n",
      "\n",
      ">>> x1 = np.arange(9.0).reshape((3, 3))\n",
      ">>> x2 = np.arange(3.0)\n",
      ">>> x1 + x2\n",
      "array([[ 0.,  2.,  4.],\n",
      "       [ 3.,  5.,  7.],\n",
      "       [ 6.,  8., 10.]])\n"
     ]
    }
   ],
   "source": [
    "np.info(np.add)"
   ]
  },
  {
   "cell_type": "code",
   "execution_count": 8,
   "id": "a7ca856d",
   "metadata": {},
   "outputs": [
    {
     "data": {
      "text/plain": [
       "array([0, 1, 2, 3, 1, 5, 6, 7, 8, 9])"
      ]
     },
     "execution_count": 8,
     "metadata": {},
     "output_type": "execute_result"
    }
   ],
   "source": [
    "arr1[4]=1\n",
    "arr1"
   ]
  },
  {
   "cell_type": "code",
   "execution_count": 9,
   "id": "dec80c9e",
   "metadata": {},
   "outputs": [
    {
     "data": {
      "text/plain": [
       "array([10, 11, 12, 13, 14, 15, 16, 17, 18, 19, 20, 21, 22, 23, 24, 25, 26,\n",
       "       27, 28, 29, 30, 31, 32, 33, 34, 35, 36, 37, 38, 39, 40, 41, 42, 43,\n",
       "       44, 45, 46, 47, 48])"
      ]
     },
     "execution_count": 9,
     "metadata": {},
     "output_type": "execute_result"
    }
   ],
   "source": [
    "arr2=np.arange(10,49)\n",
    "arr2\n"
   ]
  },
  {
   "cell_type": "code",
   "execution_count": 10,
   "id": "801afa29",
   "metadata": {},
   "outputs": [
    {
     "data": {
      "text/plain": [
       "array([9, 8, 7, 6, 5, 1, 3, 2, 1, 0])"
      ]
     },
     "execution_count": 10,
     "metadata": {},
     "output_type": "execute_result"
    }
   ],
   "source": [
    "np.flip(arr1)"
   ]
  },
  {
   "cell_type": "code",
   "execution_count": 11,
   "id": "8170364a",
   "metadata": {},
   "outputs": [
    {
     "data": {
      "text/plain": [
       "array([[0, 1, 2],\n",
       "       [3, 4, 5],\n",
       "       [6, 7, 8]])"
      ]
     },
     "execution_count": 11,
     "metadata": {},
     "output_type": "execute_result"
    }
   ],
   "source": [
    "arr3=np.arange(0,9).reshape(3,3)\n",
    "arr3"
   ]
  },
  {
   "cell_type": "code",
   "execution_count": 12,
   "id": "f6f9453e",
   "metadata": {},
   "outputs": [
    {
     "data": {
      "text/plain": [
       "array([0, 1, 4])"
      ]
     },
     "execution_count": 12,
     "metadata": {},
     "output_type": "execute_result"
    }
   ],
   "source": [
    "arr4=np.array([1,2,0,0,4,0])\n",
    "arr4[arr4!=0]\n",
    "np.where(arr4!=0)[0] #for firt index only [0][0] and for all only one[0]"
   ]
  },
  {
   "cell_type": "code",
   "execution_count": 13,
   "id": "317f903a",
   "metadata": {},
   "outputs": [
    {
     "data": {
      "text/plain": [
       "array([[1., 0., 0.],\n",
       "       [0., 1., 0.],\n",
       "       [0., 0., 1.]])"
      ]
     },
     "execution_count": 13,
     "metadata": {},
     "output_type": "execute_result"
    }
   ],
   "source": [
    "arr5=np.identity(3)\n",
    "arr5"
   ]
  },
  {
   "cell_type": "code",
   "execution_count": null,
   "id": "6ee7bb59",
   "metadata": {},
   "outputs": [],
   "source": []
  },
  {
   "cell_type": "code",
   "execution_count": 14,
   "id": "cf8d15b7",
   "metadata": {},
   "outputs": [
    {
     "data": {
      "text/plain": [
       "array([[[ 5.22160769,  6.00894698, 11.26982641],\n",
       "        [ 7.67885587,  6.2753997 ,  5.41113661],\n",
       "        [19.03149631,  3.94883399, 17.16899657]],\n",
       "\n",
       "       [[15.7628633 , 17.13217422,  4.03663919],\n",
       "        [ 0.87439765, 15.97619682, 25.15262933],\n",
       "        [23.19470386, 13.99611247, 15.56882148]],\n",
       "\n",
       "       [[20.53073112, 18.78183923, 26.96271294],\n",
       "        [26.73441429,  1.04435145, 20.85979869],\n",
       "        [ 2.12586808, 21.34042296,  7.58628634]]])"
      ]
     },
     "execution_count": 14,
     "metadata": {},
     "output_type": "execute_result"
    }
   ],
   "source": [
    "arr5=np.random.uniform(0,27,27).reshape(3,3,3)\n",
    "arr5.astype(int) # by defalt float\n",
    "arr5"
   ]
  },
  {
   "cell_type": "code",
   "execution_count": 15,
   "id": "bf1277fc",
   "metadata": {},
   "outputs": [
    {
     "data": {
      "text/plain": [
       "array([[[ 4, 98, 92],\n",
       "        [32, 68, 97],\n",
       "        [30, 94, 46]],\n",
       "\n",
       "       [[95, 26, 74],\n",
       "        [67,  8, 90],\n",
       "        [12, 95, 93]],\n",
       "\n",
       "       [[62, 35, 45],\n",
       "        [81, 68,  7],\n",
       "        [78, 75, 72]]])"
      ]
     },
     "execution_count": 15,
     "metadata": {},
     "output_type": "execute_result"
    }
   ],
   "source": [
    "arr6=np.random.randint(0,100,27).reshape(3,3,3)\n",
    "#arr6.shape\n",
    "#arr6.ndim\n",
    "#arr6.reshape(3,3,3)\n",
    "arr6"
   ]
  },
  {
   "cell_type": "code",
   "execution_count": 16,
   "id": "516ba462",
   "metadata": {},
   "outputs": [
    {
     "name": "stdout",
     "output_type": "stream",
     "text": [
      "[[  4 122 188 114 168  56   8 165   5  94]\n",
      " [ 73  29 104 181 130  10  15  99 116 181]\n",
      " [ 37  48 197  65  54  96 181  79 149 162]\n",
      " [  2 147 196  39 123  43  34 106 152  27]\n",
      " [ 94  30 124   2  19  99  52 140  83 181]\n",
      " [ 51 166 169 157 136 157 188 164  96 154]\n",
      " [ 85 149  54  13  30 107  81  76 197 108]\n",
      " [151 135 120 190  31 157  87 121 103  24]\n",
      " [199  36 179   3 151 130 184  10  77  70]\n",
      " [135 117  39 197  89  27 133 150 108 160]]\n",
      "199\n",
      "2\n"
     ]
    }
   ],
   "source": [
    "arr7=np.random.randint(0,200,100).reshape(10,10)\n",
    "print(arr7)\n",
    "print(np.max(arr7))\n",
    "print(np.min(arr7))\n",
    "\n",
    "\n"
   ]
  },
  {
   "cell_type": "code",
   "execution_count": 17,
   "id": "a2d2bbb4",
   "metadata": {},
   "outputs": [
    {
     "name": "stdout",
     "output_type": "stream",
     "text": [
      "[57 19 37 47 51 27 54 15  7 18  7 10 56 52 19 15 50 32 27 35 12 53 34  7\n",
      " 31 24 30 38 15 31]\n"
     ]
    },
    {
     "data": {
      "text/plain": [
       "30.333333333333332"
      ]
     },
     "execution_count": 17,
     "metadata": {},
     "output_type": "execute_result"
    }
   ],
   "source": [
    "arr8=np.random.randint(1,60,30)\n",
    "print(arr8)\n",
    "np.mean(arr8)\n"
   ]
  },
  {
   "cell_type": "code",
   "execution_count": 18,
   "id": "0b723ed0",
   "metadata": {},
   "outputs": [
    {
     "data": {
      "text/plain": [
       "array([[1, 1, 1, 1],\n",
       "       [1, 0, 0, 1],\n",
       "       [1, 0, 0, 1],\n",
       "       [1, 1, 1, 1]])"
      ]
     },
     "execution_count": 18,
     "metadata": {},
     "output_type": "execute_result"
    }
   ],
   "source": [
    "arr9=np.zeros(16).reshape(4,4).astype(int)\n",
    "\n",
    "arr9[:1]=1#row\n",
    "arr9[3:]=1#row\n",
    "arr9[:,:1]=1#column\n",
    "arr9[:,3:]=1#column\n",
    "arr9"
   ]
  },
  {
   "cell_type": "code",
   "execution_count": 19,
   "id": "f029fa4b",
   "metadata": {},
   "outputs": [
    {
     "data": {
      "text/plain": [
       "array([[0, 0],\n",
       "       [0, 0]])"
      ]
     },
     "execution_count": 19,
     "metadata": {},
     "output_type": "execute_result"
    }
   ],
   "source": [
    "arr9[1:3,1:3]# row column\n",
    "# slicing  [1:3->1,2] 3 is not included"
   ]
  },
  {
   "cell_type": "code",
   "execution_count": 20,
   "id": "59c68e2f",
   "metadata": {},
   "outputs": [
    {
     "data": {
      "text/plain": [
       "array([[[ 4, 98, 92],\n",
       "        [32, 68, 97],\n",
       "        [30, 94, 46]],\n",
       "\n",
       "       [[95, 26, 74],\n",
       "        [67,  8, 90],\n",
       "        [12, 95, 93]],\n",
       "\n",
       "       [[62, 35, 45],\n",
       "        [81, 68,  7],\n",
       "        [78, 75, 72]]])"
      ]
     },
     "execution_count": 20,
     "metadata": {},
     "output_type": "execute_result"
    }
   ],
   "source": [
    "arr6"
   ]
  },
  {
   "cell_type": "code",
   "execution_count": 21,
   "id": "7b5a8b30",
   "metadata": {},
   "outputs": [
    {
     "name": "stdout",
     "output_type": "stream",
     "text": [
      "[[32 68 97]]\n",
      "[[35 68 75]]\n"
     ]
    }
   ],
   "source": [
    "print(arr6[:1:2,1])\n",
    "print(arr6[2:3,:,1]) # in 3d array[matri,row,column]->[m:m,r:r,c:c]"
   ]
  },
  {
   "cell_type": "code",
   "execution_count": 22,
   "id": "194bc76e",
   "metadata": {},
   "outputs": [
    {
     "data": {
      "text/plain": [
       "array([[0, 1, 2],\n",
       "       [3, 4, 5],\n",
       "       [6, 7, 8]])"
      ]
     },
     "execution_count": 22,
     "metadata": {},
     "output_type": "execute_result"
    }
   ],
   "source": [
    "arr3\n",
    "\n"
   ]
  },
  {
   "cell_type": "code",
   "execution_count": 23,
   "id": "98053d5d",
   "metadata": {},
   "outputs": [
    {
     "data": {
      "text/plain": [
       "array([[0, 0, 0],\n",
       "       [0, 4, 0],\n",
       "       [0, 0, 0]])"
      ]
     },
     "execution_count": 23,
     "metadata": {},
     "output_type": "execute_result"
    }
   ],
   "source": [
    "arr3[:1]=0\n",
    "arr3[2:]=0\n",
    "arr3[:,:1]=0\n",
    "arr3[:,2:]=0\n",
    "arr3"
   ]
  },
  {
   "cell_type": "code",
   "execution_count": 24,
   "id": "794a9b44",
   "metadata": {},
   "outputs": [
    {
     "name": "stdout",
     "output_type": "stream",
     "text": [
      "nan\n",
      "False\n",
      "False\n",
      "nan\n",
      "True\n",
      "False\n"
     ]
    }
   ],
   "source": [
    "print(0*np.nan)\n",
    "print(np.nan==np.nan)\n",
    "print(np.inf>np.nan)\n",
    "\n",
    "print(np.nan-np.nan)\n",
    "print(np.nan in  set([np.nan]))\n",
    "print(0.3==3*0.1)\n"
   ]
  },
  {
   "cell_type": "code",
   "execution_count": 25,
   "id": "30a774c3",
   "metadata": {},
   "outputs": [
    {
     "data": {
      "text/plain": [
       "array([[1, 1, 1, 1, 1],\n",
       "       [1, 1, 1, 1, 1],\n",
       "       [2, 2, 1, 1, 1],\n",
       "       [3, 3, 3, 1, 1],\n",
       "       [4, 4, 4, 4, 1]])"
      ]
     },
     "execution_count": 25,
     "metadata": {},
     "output_type": "execute_result"
    }
   ],
   "source": [
    "arr10=np.ones((5,5)).astype(int)\n",
    "for i in range(5):\n",
    "  for j in range(5):\n",
    "    if i>j:\n",
    "     arr10[i][j]=i\n",
    "arr10"
   ]
  },
  {
   "cell_type": "code",
   "execution_count": 26,
   "id": "ff776e20",
   "metadata": {},
   "outputs": [
    {
     "name": "stdout",
     "output_type": "stream",
     "text": [
      "[[1 0 0 0]\n",
      " [1 1 0 0]\n",
      " [1 1 1 0]\n",
      " [1 1 1 1]] \n",
      "\n",
      "[[1 1 1 1]\n",
      " [0 1 1 1]\n",
      " [0 0 1 1]\n",
      " [0 0 0 1]]\n"
     ]
    }
   ],
   "source": [
    "arr11=np.ones((4,4)).astype(int)\n",
    "print(np.tril(arr11,0),\"\\n\") # lower triangular matrix\n",
    "print(np.triu(arr11,0)) # upper triangular matrix"
   ]
  },
  {
   "cell_type": "code",
   "execution_count": 27,
   "id": "498af6c1",
   "metadata": {},
   "outputs": [
    {
     "data": {
      "text/plain": [
       "array([[0, 1, 0, 1, 0, 1, 0, 1],\n",
       "       [1, 0, 1, 0, 1, 0, 1, 0],\n",
       "       [0, 1, 0, 1, 0, 1, 0, 1],\n",
       "       [1, 0, 1, 0, 1, 0, 1, 0],\n",
       "       [0, 1, 0, 1, 0, 1, 0, 1],\n",
       "       [1, 0, 1, 0, 1, 0, 1, 0],\n",
       "       [0, 1, 0, 1, 0, 1, 0, 1],\n",
       "       [1, 0, 1, 0, 1, 0, 1, 0]])"
      ]
     },
     "execution_count": 27,
     "metadata": {},
     "output_type": "execute_result"
    }
   ],
   "source": [
    "arr12=np.zeros((8,8)).astype(int)\n",
    "\n",
    "arr12[1::2,::2]=1 \n",
    "arr12[::2,1::2]=1\n",
    "arr12\n"
   ]
  },
  {
   "cell_type": "code",
   "execution_count": 28,
   "id": "267b5859",
   "metadata": {},
   "outputs": [
    {
     "data": {
      "text/plain": [
       "array([[  4, 122, 188, 114, 168,  56,   8, 165,   5,  94],\n",
       "       [ 73,  29, 104, 181, 130,  10,  15,  99, 116, 181],\n",
       "       [ 37,  48, 197,  65,  54,  96, 181,  79, 149, 162],\n",
       "       [  2, 147, 196,  39, 123,  43,  34, 106, 152,  27],\n",
       "       [ 94,  30, 124,   2,  19,  99,  52, 140,  83, 181],\n",
       "       [ 51, 166, 169, 157, 136, 157, 188, 164,  96, 154],\n",
       "       [ 85, 149,  54,  13,  30, 107,  81,  76, 197, 108],\n",
       "       [151, 135, 120, 190,  31, 157,  87, 121, 103,  24],\n",
       "       [199,  36, 179,   3, 151, 130, 184,  10,  77,  70],\n",
       "       [135, 117,  39, 197,  89,  27, 133, 150, 108, 160]])"
      ]
     },
     "execution_count": 28,
     "metadata": {},
     "output_type": "execute_result"
    }
   ],
   "source": [
    "arr7"
   ]
  },
  {
   "cell_type": "code",
   "execution_count": 29,
   "id": "242279a8",
   "metadata": {},
   "outputs": [
    {
     "name": "stdout",
     "output_type": "stream",
     "text": [
      "[[ 73  29 104 181 130  10  15  99 116 181]\n",
      " [  2 147 196  39 123  43  34 106 152  27]\n",
      " [ 51 166 169 157 136 157 188 164  96 154]\n",
      " [151 135 120 190  31 157  87 121 103  24]\n",
      " [135 117  39 197  89  27 133 150 108 160]]\n",
      "[[  4 188 168   8   5]\n",
      " [ 73 104 130  15 116]\n",
      " [ 37 197  54 181 149]\n",
      " [  2 196 123  34 152]\n",
      " [ 94 124  19  52  83]\n",
      " [ 51 169 136 188  96]\n",
      " [ 85  54  30  81 197]\n",
      " [151 120  31  87 103]\n",
      " [199 179 151 184  77]\n",
      " [135  39  89 133 108]]\n",
      "[[ 73 104 130  15 116]\n",
      " [  2 196 123  34 152]\n",
      " [ 51 169 136 188  96]\n",
      " [151 120  31  87 103]\n",
      " [135  39  89 133 108]]\n"
     ]
    }
   ],
   "source": [
    "print(arr7[1::2]) # leaves one row     [start::num] num-> number of row ? col leave num-1 i.e num=2 ,leave = 1\n",
    "print(arr7[:,::2]) # leaves one column\n",
    "print(arr7[1::2,::2])"
   ]
  },
  {
   "cell_type": "code",
   "execution_count": 30,
   "id": "40566a72",
   "metadata": {},
   "outputs": [
    {
     "data": {
      "text/plain": [
       "array([[1, 5, 4]])"
      ]
     },
     "execution_count": 30,
     "metadata": {},
     "output_type": "execute_result"
    }
   ],
   "source": [
    "arr13=np.arange(336).astype(int).reshape(6,7,8)\n",
    "s=np.argwhere(arr13==100) # to find index\n",
    "s\n",
    "#arr13[5][6][7]"
   ]
  },
  {
   "cell_type": "code",
   "execution_count": 31,
   "id": "45883bef",
   "metadata": {},
   "outputs": [
    {
     "data": {
      "text/plain": [
       "array([[0.15367408, 0.13172064, 0.32198378, 0.01463563, 0.20489877],\n",
       "       [0.25612346, 0.00731781, 0.07317813, 0.19026314, 0.34393722],\n",
       "       [0.30734816, 0.08049595, 0.13172064, 0.31466597, 0.3293016 ],\n",
       "       [0.13172064, 0.03658907, 0.19026314, 0.02927125, 0.13172064],\n",
       "       [0.14635627, 0.18294533, 0.35857285, 0.04390688, 0.05854251]])"
      ]
     },
     "execution_count": 31,
     "metadata": {},
     "output_type": "execute_result"
    }
   ],
   "source": [
    "arr14=np.random.randint(0,50,25).reshape(5,5)\n",
    "#np.ravel(arr14)\n",
    "arr14/np.linalg.norm(arr14)"
   ]
  },
  {
   "cell_type": "code",
   "execution_count": 32,
   "id": "6343d9a9",
   "metadata": {},
   "outputs": [
    {
     "data": {
      "text/plain": [
       "dtype([('r', 'u1'), ('g', 'u1'), ('b', 'u1'), ('a', 'u1')])"
      ]
     },
     "execution_count": 32,
     "metadata": {},
     "output_type": "execute_result"
    }
   ],
   "source": [
    "color=np.dtype([(\"r\",np.ubyte),\n",
    "               (\"g\",np.ubyte),\n",
    "               (\"b\",np.ubyte),\n",
    "               (\"a\",np.ubyte)])\n",
    " # def __str__(self):\n",
    "  #  return f\"returns string\"\n",
    "        \n",
    "color"
   ]
  },
  {
   "cell_type": "code",
   "execution_count": 33,
   "id": "f05b090c",
   "metadata": {},
   "outputs": [
    {
     "name": "stdout",
     "output_type": "stream",
     "text": [
      "[[ 10  13]\n",
      " [ 28  40]\n",
      " [ 46  67]\n",
      " [ 64  94]\n",
      " [ 82 121]]\n",
      "[[ 10  13]\n",
      " [ 28  40]\n",
      " [ 46  67]\n",
      " [ 64  94]\n",
      " [ 82 121]]\n"
     ]
    }
   ],
   "source": [
    "ar1=np.arange(15).reshape(5,3)\n",
    "ar2=np.arange(6).reshape(3,2)\n",
    "print(np.dot(ar1,ar2)) #multiply\n",
    "# Alternative\n",
    "z=ar1@ar2\n",
    "print(z)"
   ]
  },
  {
   "cell_type": "code",
   "execution_count": 34,
   "id": "d88f00a6",
   "metadata": {},
   "outputs": [
    {
     "name": "stdout",
     "output_type": "stream",
     "text": [
      "[ 0  1  2  3 -4 -5 -6 -7  8  9]\n"
     ]
    },
    {
     "data": {
      "text/plain": [
       "array([ 0,  1,  2,  3, -4, -5, -6, -7,  8,  9])"
      ]
     },
     "execution_count": 34,
     "metadata": {},
     "output_type": "execute_result"
    }
   ],
   "source": [
    "arr15=np.arange(10).astype(int)\n",
    "for i in np.nditer(arr15):\n",
    "    if i>3 and i<8:\n",
    "      arr15[i]=np.negative(i)\n",
    "print(arr15)\n",
    "# alternative\n",
    "arr15[(arr15>3) & (arr15<8)] *= -1 #pranthesis is important in indexing method, if more than one condition\n",
    "arr15\n",
    "# best method alternative\n",
    "# * m= (arr15>3) & (arr15<8)\n",
    "#arr15[m] *= -1\n",
    "#np.any() or np.all() return bool"
   ]
  },
  {
   "cell_type": "code",
   "execution_count": 35,
   "id": "f8454e07",
   "metadata": {},
   "outputs": [
    {
     "name": "stdout",
     "output_type": "stream",
     "text": [
      "9\n",
      "10\n"
     ]
    }
   ],
   "source": [
    "print(sum(range(5),-1))\n",
    "from numpy import * # after this sum function do not go for second argument i.e -1\n",
    "print(sum(range(5),-1))"
   ]
  },
  {
   "cell_type": "code",
   "execution_count": 36,
   "id": "8243386c",
   "metadata": {
    "scrolled": false
   },
   "outputs": [
    {
     "data": {
      "text/plain": [
       "array([0., 1., 2., 3., 4., 5.])"
      ]
     },
     "execution_count": 36,
     "metadata": {},
     "output_type": "execute_result"
    }
   ],
   "source": [
    "z=np.arange(6)\n",
    "z**z # valid output 1,1,2**2,3**3,4**4\n",
    "2<<z>>2 # valid\n",
    "z<-z# valid\n",
    "1j*z #valid\n",
    "z/1/1# valid\n",
    "#z<z>z # invalid"
   ]
  },
  {
   "cell_type": "code",
   "execution_count": 37,
   "id": "d0d7ad06",
   "metadata": {},
   "outputs": [
    {
     "name": "stderr",
     "output_type": "stream",
     "text": [
      "/tmp/ipykernel_58294/3645838774.py:3: RuntimeWarning: invalid value encountered in cast\n",
      "  np.array([np.nan]).astype(int).astype(float)\n"
     ]
    },
    {
     "data": {
      "text/plain": [
       "array([-9.22337204e+18])"
      ]
     },
     "execution_count": 37,
     "metadata": {},
     "output_type": "execute_result"
    }
   ],
   "source": [
    "#np.array(0)/np.array(0)\n",
    "#np.array(0)//np.array(0)\n",
    "np.array([np.nan]).astype(int).astype(float)"
   ]
  },
  {
   "cell_type": "code",
   "execution_count": 38,
   "id": "64dd78d9",
   "metadata": {},
   "outputs": [
    {
     "data": {
      "text/plain": [
       "array([-1., -7.,  1.,  5.,  8.,  9., -6.,  5., -9.,  9.])"
      ]
     },
     "execution_count": 38,
     "metadata": {},
     "output_type": "execute_result"
    }
   ],
   "source": [
    "\n",
    "arr15=np.random.uniform(-10,10,10)\n",
    "np.copysign(np.ceil(np.abs(arr15)),arr15) #  copysign(x,y) copy's sign from y to x and abs remove - sign"
   ]
  },
  {
   "cell_type": "code",
   "execution_count": 39,
   "id": "ee5d72cb",
   "metadata": {},
   "outputs": [
    {
     "data": {
      "text/plain": [
       "array([0, 1, 2, 3, 4, 5, 6, 7, 8, 9])"
      ]
     },
     "execution_count": 39,
     "metadata": {},
     "output_type": "execute_result"
    }
   ],
   "source": [
    "a1=np.arange(10).reshape(2,5)\n",
    "a2=np.arange(20).reshape(2,10)\n",
    "np.intersect1d(a1,a2) # it work with 1d ,2d etc"
   ]
  },
  {
   "cell_type": "code",
   "execution_count": 40,
   "id": "8371a9d7",
   "metadata": {},
   "outputs": [],
   "source": [
    "dft=np.seterr(all='ignore')\n",
    "z=np.ones(1)/0\n",
    "_ = np.seterr(**dft)\n",
    "with np.errstate(all='ignore'):\n",
    "  np.arange(3)/0"
   ]
  },
  {
   "cell_type": "code",
   "execution_count": 41,
   "id": "2bbf2e06",
   "metadata": {},
   "outputs": [
    {
     "name": "stderr",
     "output_type": "stream",
     "text": [
      "/tmp/ipykernel_58294/3898620780.py:1: RuntimeWarning: invalid value encountered in sqrt\n",
      "  np.sqrt(-1)==np.emath.sqrt(-1)\n"
     ]
    },
    {
     "data": {
      "text/plain": [
       "False"
      ]
     },
     "execution_count": 41,
     "metadata": {},
     "output_type": "execute_result"
    }
   ],
   "source": [
    "np.sqrt(-1)==np.emath.sqrt(-1)"
   ]
  },
  {
   "cell_type": "code",
   "execution_count": 42,
   "id": "9ef70f24",
   "metadata": {},
   "outputs": [
    {
     "name": "stdout",
     "output_type": "stream",
     "text": [
      "2023-07-27 2023-07-28 2023-07-29\n"
     ]
    }
   ],
   "source": [
    "y=np.datetime64('today')-np.timedelta64(1)\n",
    "t=np.datetime64('today')\n",
    "tu=np.datetime64('today')+np.timedelta64(1)\n",
    "print(y,t,tu)"
   ]
  },
  {
   "cell_type": "code",
   "execution_count": 43,
   "id": "5e974c56",
   "metadata": {},
   "outputs": [
    {
     "data": {
      "text/plain": [
       "array(['2020-01-01', '2020-01-02', '2020-01-03', '2020-01-04',\n",
       "       '2020-01-05', '2020-01-06', '2020-01-07', '2020-01-08',\n",
       "       '2020-01-09', '2020-01-10', '2020-01-11', '2020-01-12',\n",
       "       '2020-01-13', '2020-01-14', '2020-01-15', '2020-01-16',\n",
       "       '2020-01-17', '2020-01-18', '2020-01-19', '2020-01-20',\n",
       "       '2020-01-21', '2020-01-22', '2020-01-23', '2020-01-24',\n",
       "       '2020-01-25', '2020-01-26', '2020-01-27', '2020-01-28',\n",
       "       '2020-01-29', '2020-01-30', '2020-01-31'], dtype='datetime64[D]')"
      ]
     },
     "execution_count": 43,
     "metadata": {},
     "output_type": "execute_result"
    }
   ],
   "source": [
    "xyz=np.arange('2020-01','2020-02',dtype='datetime64[D]') # fetch D,M,Y ,day=01 i.e two digit np.timedelta64()\n",
    "#return digit/int\n",
    "xyz"
   ]
  },
  {
   "cell_type": "code",
   "execution_count": 44,
   "id": "09f6fe56",
   "metadata": {},
   "outputs": [
    {
     "data": {
      "text/plain": [
       "array(['2016-07-01', '2016-07-02', '2016-07-03', '2016-07-04',\n",
       "       '2016-07-05', '2016-07-06', '2016-07-07', '2016-07-08',\n",
       "       '2016-07-09', '2016-07-10', '2016-07-11', '2016-07-12',\n",
       "       '2016-07-13', '2016-07-14', '2016-07-15', '2016-07-16',\n",
       "       '2016-07-17', '2016-07-18', '2016-07-19', '2016-07-20',\n",
       "       '2016-07-21', '2016-07-22', '2016-07-23', '2016-07-24',\n",
       "       '2016-07-25', '2016-07-26', '2016-07-27', '2016-07-28',\n",
       "       '2016-07-29', '2016-07-30', '2016-07-31'], dtype='datetime64[D]')"
      ]
     },
     "execution_count": 44,
     "metadata": {},
     "output_type": "execute_result"
    }
   ],
   "source": [
    "jul=np.arange('2016-07','2016-08',dtype='datetime64[D]') # month should be in two digit\n",
    "jul"
   ]
  },
  {
   "cell_type": "code",
   "execution_count": 45,
   "id": "6f973c4a",
   "metadata": {},
   "outputs": [
    {
     "data": {
      "text/plain": [
       "array([-1.5, -1.5, -1.5])"
      ]
     },
     "execution_count": 45,
     "metadata": {},
     "output_type": "execute_result"
    }
   ],
   "source": [
    "a=np.ones(3)*1\n",
    "b=np.ones(3)*2\n",
    "np.add(a,b,out=b) # out makes change in original array and copy to b eg :out=b \n",
    "np.divide(a,2,out=a)\n",
    "np.negative(a,out=a)\n",
    "np.multiply(a,b,out=a)"
   ]
  },
  {
   "cell_type": "code",
   "execution_count": 46,
   "id": "25f0f078",
   "metadata": {},
   "outputs": [
    {
     "name": "stdout",
     "output_type": "stream",
     "text": [
      "[[14 13 14 15 10]\n",
      " [13 18 16 16 12]] \n",
      "\n",
      "[[14. 13. 14. 15. 10.]\n",
      " [13. 18. 16. 16. 12.]] \n",
      "\n",
      "[[14. 13. 14. 15. 10.]\n",
      " [13. 18. 16. 16. 12.]] \n",
      "\n",
      "[[14. 13. 14. 15. 10.]\n",
      " [13. 18. 16. 16. 12.]] \n",
      "\n",
      "[[14. 13. 14. 15. 10.]\n",
      " [13. 18. 16. 16. 12.]]\n"
     ]
    }
   ],
   "source": [
    "arr16=np.random.uniform(10,20,10).reshape(2,5)\n",
    "print(arr16.astype(int),\"\\n\")\n",
    "print(arr16//1,\"\\n\")\n",
    "print(arr16-arr16%1,\"\\n\")\n",
    "print(np.floor(arr16),\"\\n\")\n",
    "print(np.trunc(arr16))"
   ]
  },
  {
   "cell_type": "code",
   "execution_count": 47,
   "id": "506c7404",
   "metadata": {},
   "outputs": [
    {
     "name": "stdout",
     "output_type": "stream",
     "text": [
      "[[0. 1. 2. 3. 4.]\n",
      " [0. 1. 2. 3. 4.]\n",
      " [0. 1. 2. 3. 4.]\n",
      " [0. 1. 2. 3. 4.]\n",
      " [0. 1. 2. 3. 4.]]\n",
      "[[0 1 2 3 4]\n",
      " [0 1 2 3 4]\n",
      " [0 1 2 3 4]\n",
      " [0 1 2 3 4]\n",
      " [0 1 2 3 4]]\n"
     ]
    }
   ],
   "source": [
    "arr17=np.zeros((5,5))\n",
    "arr17+=np.arange(5) # broadcasting\n",
    "print(arr17)\n",
    " # without broadcasting\n",
    "arr17=np.tile(np.arange(5),(5,1))\n",
    "print(arr17)\n"
   ]
  },
  {
   "cell_type": "code",
   "execution_count": 48,
   "id": "4260516c",
   "metadata": {},
   "outputs": [
    {
     "data": {
      "text/plain": [
       "array([[1, 2, 3, 4],\n",
       "       [1, 2, 3, 4],\n",
       "       [1, 2, 3, 4],\n",
       "       [1, 2, 3, 4],\n",
       "       [1, 2, 3, 4]])"
      ]
     },
     "execution_count": 48,
     "metadata": {},
     "output_type": "execute_result"
    }
   ],
   "source": [
    "# tile\n",
    "til=np.tile([1,2,3,4],(5,1)) # arguments (array,(row,col))\n",
    "til"
   ]
  },
  {
   "cell_type": "code",
   "execution_count": 49,
   "id": "ec319e49",
   "metadata": {},
   "outputs": [
    {
     "name": "stdout",
     "output_type": "stream",
     "text": [
      "[0 1 2 3 4 5 6 7 8 9]\n"
     ]
    }
   ],
   "source": [
    "def generate():\n",
    "   for x in range(10):\n",
    "       yield x\n",
    "    \n",
    "\n",
    "arr18=np.fromiter(generate(),dtype=int) # first argument iterator \n",
    "print(arr18)\n"
   ]
  },
  {
   "cell_type": "code",
   "execution_count": 50,
   "id": "96609b2d",
   "metadata": {},
   "outputs": [
    {
     "data": {
      "text/plain": [
       "array([0.1, 0.2, 0.3, 0.4, 0.5, 0.6, 0.7, 0.8, 0.9])"
      ]
     },
     "execution_count": 50,
     "metadata": {},
     "output_type": "execute_result"
    }
   ],
   "source": [
    "arr19=np.linspace(0,1,10,endpoint=False)[1:]\n",
    "#alternative\n",
    "#arr19=np.linspace(0.1,1,10,endpoint=False)\n",
    "arr19"
   ]
  },
  {
   "cell_type": "code",
   "execution_count": 51,
   "id": "dd1ea9b4",
   "metadata": {},
   "outputs": [
    {
     "data": {
      "text/plain": [
       "array([0.14729935, 0.18909095, 0.23358307, 0.35343477, 0.55731193,\n",
       "       0.63561738, 0.64680683, 0.70373267, 0.71715988, 0.76894657])"
      ]
     },
     "execution_count": 51,
     "metadata": {},
     "output_type": "execute_result"
    }
   ],
   "source": [
    "arr20=np.random.random(10)\n",
    "arr20.sort()\n",
    "arr20"
   ]
  },
  {
   "cell_type": "code",
   "execution_count": 52,
   "id": "4604e854",
   "metadata": {},
   "outputs": [
    {
     "data": {
      "text/plain": [
       "45"
      ]
     },
     "execution_count": 52,
     "metadata": {},
     "output_type": "execute_result"
    }
   ],
   "source": [
    "arr21=np.arange(10)\n",
    "np.add.reduce(arr21)# faster\n",
    "#np.sum(arr21) slower\n",
    "\n"
   ]
  },
  {
   "cell_type": "code",
   "execution_count": 53,
   "id": "f1ccb79a",
   "metadata": {},
   "outputs": [
    {
     "name": "stdout",
     "output_type": "stream",
     "text": [
      "False\n",
      "False\n"
     ]
    }
   ],
   "source": [
    "a1=np.random.randint(0,2,5)\n",
    "a2=np.random.randint(0,2,5)\n",
    "eq=np.allclose(a1,a2)  # it checks for shape nan is not ignore returns false has some tolerancea\n",
    "print(eq)\n",
    "\n",
    "eq=np.array_equal(a1,a2) # it checks both shape and value(exactly equal)\n",
    "print(eq)"
   ]
  },
  {
   "cell_type": "code",
   "execution_count": 54,
   "id": "759aed1d",
   "metadata": {},
   "outputs": [
    {
     "ename": "ValueError",
     "evalue": "assignment destination is read-only",
     "output_type": "error",
     "traceback": [
      "\u001b[0;31m---------------------------------------------------------------------------\u001b[0m",
      "\u001b[0;31mValueError\u001b[0m                                Traceback (most recent call last)",
      "Cell \u001b[0;32mIn[54], line 3\u001b[0m\n\u001b[1;32m      1\u001b[0m arr22\u001b[38;5;241m=\u001b[39mnp\u001b[38;5;241m.\u001b[39mzeros(\u001b[38;5;241m10\u001b[39m)\n\u001b[1;32m      2\u001b[0m arr22\u001b[38;5;241m.\u001b[39mflags\u001b[38;5;241m.\u001b[39mwriteable\u001b[38;5;241m=\u001b[39m\u001b[38;5;28;01mFalse\u001b[39;00m \u001b[38;5;66;03m# makes immutable(read only dataqa)\u001b[39;00m\n\u001b[0;32m----> 3\u001b[0m \u001b[43marr22\u001b[49m\u001b[43m[\u001b[49m\u001b[38;5;241;43m1\u001b[39;49m\u001b[43m]\u001b[49m\u001b[38;5;241m=\u001b[39m\u001b[38;5;241m2\u001b[39m\n",
      "\u001b[0;31mValueError\u001b[0m: assignment destination is read-only"
     ]
    }
   ],
   "source": [
    "arr22=np.zeros(10)\n",
    "arr22.flags.writeable=False # makes immutable(read only dataqa)\n",
    "arr22[1]=2"
   ]
  },
  {
   "cell_type": "code",
   "execution_count": null,
   "id": "95094386",
   "metadata": {},
   "outputs": [],
   "source": [
    "arr23=np.random.random((10,2)) # produces number between 0-1\n",
    "x,y=arr23[:,0],arr23[:,1]\n",
    "r=np.sqrt(x**2+y**2)\n",
    "t=np.arctan2(y,x)\n",
    "print(r,t)"
   ]
  },
  {
   "cell_type": "code",
   "execution_count": null,
   "id": "fb3e16d5",
   "metadata": {},
   "outputs": [],
   "source": [
    "arr24=np.random.random(10)\n",
    "print(arr24)\n",
    "arr24[arr24.argmax()]=0 # argmax also work np.argmax(arr24) or arr24.argmax()\n",
    "arr24"
   ]
  },
  {
   "cell_type": "code",
   "execution_count": null,
   "id": "a0d4135a",
   "metadata": {},
   "outputs": [],
   "source": [
    "arr25=np.zeros((5,5),[('x',float),('y',float)])\n",
    "arr25['x'],arr25['y']=np.meshgrid(np.linspace(0,1,5),np.linspace(0,1,5))\n",
    "arr25"
   ]
  },
  {
   "cell_type": "code",
   "execution_count": null,
   "id": "bb37fdb0",
   "metadata": {},
   "outputs": [],
   "source": [
    "arr26=np.arange(8)\n",
    "y=arr26+0.5\n",
    "c=1.0/np.subtract.outer(arr26,y)\n",
    "print(np.linalg.det(c))"
   ]
  },
  {
   "cell_type": "code",
   "execution_count": null,
   "id": "ed428de3",
   "metadata": {},
   "outputs": [],
   "source": [
    "for dtype in [np.int8,np.int32,np.int64]:\n",
    "  print(np.iinfo(dtype).min)\n",
    "  print(np.iinfo(dtype).max)\n",
    "    \n",
    "print(\"\\n\")\n",
    "for dtype in [np.float32,np.float64]:\n",
    "   print(np.finfo(dtype).min)\n",
    "   print(np.finfo(dtype).max)\n",
    "   print(np.finfo(dtype).eps)"
   ]
  },
  {
   "cell_type": "code",
   "execution_count": null,
   "id": "bcb4edfd",
   "metadata": {},
   "outputs": [],
   "source": [
    "np.set_printoptions(threshold=float(\"inf\"))\n",
    "arr27=np.zeros((40,40))\n",
    "arr27"
   ]
  },
  {
   "cell_type": "code",
   "execution_count": null,
   "id": "5b0147d1",
   "metadata": {},
   "outputs": [],
   "source": [
    "arr28=np.arange(100)\n",
    "temp=np.random.uniform(0,100)\n",
    "indx=(np.abs(arr28-temp)).argmin()\n",
    "print(arr28[indx])\n"
   ]
  },
  {
   "cell_type": "code",
   "execution_count": null,
   "id": "46908d45",
   "metadata": {},
   "outputs": [],
   "source": [
    "arr29=np.zeros(10,[(\"position\",[('x',float),\n",
    "                               ('y',float)]),\n",
    "                    ('color',[('r',float),\n",
    "                              ('g',float),\n",
    "                              ('b',float)\n",
    "                             ])])\n",
    "arr29"
   ]
  },
  {
   "cell_type": "code",
   "execution_count": null,
   "id": "09ea08b0",
   "metadata": {},
   "outputs": [],
   "source": [
    "!pip install scipy"
   ]
  },
  {
   "cell_type": "code",
   "execution_count": null,
   "id": "8f131856",
   "metadata": {
    "scrolled": true
   },
   "outputs": [],
   "source": [
    "arr30=np.random.random((10,2))\n",
    "x,y=np.atleast_2d(arr30[:,0],arr30[:,1])\n",
    "d=np.sqrt((x-x.T)**2+(y-y.T)**2)\n",
    "#print(d)\n",
    "# much faster with scipy\n",
    "import scipy\n",
    "d=scipy.spatial.distance.cdist(arr30,arr30)\n",
    "print(d)\n"
   ]
  },
  {
   "cell_type": "code",
   "execution_count": null,
   "id": "53a5a9be",
   "metadata": {},
   "outputs": [],
   "source": [
    "arr31=(np.random.rand(10)*100).astype(np.float32)\n",
    "y=arr31.view(np.int32)\n",
    "y[:]=arr31\n",
    "y\n"
   ]
  },
  {
   "cell_type": "code",
   "execution_count": null,
   "id": "ff3a6fd0",
   "metadata": {},
   "outputs": [],
   "source": [
    "from io import StringIO\n",
    "st=StringIO('''1, 2, 3, 4, 5\n",
    "               6,  ,  , 7, 8\n",
    "                ,  , 9, 10,11\n",
    "           ''')\n",
    "arr32=np.genfromtxt(st,delimiter=\",\",dtype=int)\n",
    "arr32"
   ]
  },
  {
   "cell_type": "code",
   "execution_count": null,
   "id": "b04cd140",
   "metadata": {},
   "outputs": [],
   "source": []
  }
 ],
 "metadata": {
  "kernelspec": {
   "display_name": "Python 3 (ipykernel)",
   "language": "python",
   "name": "python3"
  },
  "language_info": {
   "codemirror_mode": {
    "name": "ipython",
    "version": 3
   },
   "file_extension": ".py",
   "mimetype": "text/x-python",
   "name": "python",
   "nbconvert_exporter": "python",
   "pygments_lexer": "ipython3",
   "version": "3.10.12"
  }
 },
 "nbformat": 4,
 "nbformat_minor": 5
}
