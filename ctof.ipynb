{
 "cells": [
  {
   "cell_type": "code",
   "execution_count": 2,
   "id": "f2a5501e",
   "metadata": {
    "scrolled": true
   },
   "outputs": [
    {
     "name": "stdout",
     "output_type": "stream",
     "text": [
      "Enter temperature in celsius: 50\n",
      "Temperature in Fahrenheit: 122.0\n"
     ]
    }
   ],
   "source": [
    "n=int(input(\"Enter temperature in celsius: \"))\n",
    "f=(n*9/5)+32\n",
    "print(\"Temperature in Fahrenheit:\",f)"
   ]
  },
  {
   "cell_type": "code",
   "execution_count": null,
   "id": "4787c837",
   "metadata": {},
   "outputs": [],
   "source": []
  }
 ],
 "metadata": {
  "kernelspec": {
   "display_name": "Python 3 (ipykernel)",
   "language": "python",
   "name": "python3"
  },
  "language_info": {
   "codemirror_mode": {
    "name": "ipython",
    "version": 3
   },
   "file_extension": ".py",
   "mimetype": "text/x-python",
   "name": "python",
   "nbconvert_exporter": "python",
   "pygments_lexer": "ipython3",
   "version": "3.10.6"
  }
 },
 "nbformat": 4,
 "nbformat_minor": 5
}
