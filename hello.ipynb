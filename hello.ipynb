import math
x=int(input("Enter first number "))
y=int(input("Enter second number "))
z=x+y 
print(z)
z=pow(x,y)
print(z)
z=eval(input("Enter an expression "))
print(z)
print("hello python ")