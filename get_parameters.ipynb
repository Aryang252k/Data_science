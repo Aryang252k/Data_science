{
 "cells": [
  {
   "cell_type": "code",
   "execution_count": 1,
   "id": "4bffe331",
   "metadata": {},
   "outputs": [],
   "source": [
    "import numpy as np\n",
    "import pandas as pd"
   ]
  },
  {
   "cell_type": "code",
   "execution_count": 4,
   "id": "79d2e7d5",
   "metadata": {},
   "outputs": [],
   "source": [
    "def get_parameters(df):\n",
    "    param={}\n",
    "    for col in df.columns[df.isnull().any()]:\n",
    "        if df[col].dtype=='float64' or df[col].dtype=='int64' or df[col].dtype=='int32':\n",
    "            strategy='mean'\n",
    "        else:\n",
    "            strategy='most_frequent'\n",
    "        missing_values=df[col][df[col].isnull()].values[0]\n",
    "        param[col]={'missing_values':missing_values,'strategy':strategy}\n",
    "    return param"
   ]
  }
 ],
 "metadata": {
  "kernelspec": {
   "display_name": "Python 3 (ipykernel)",
   "language": "python",
   "name": "python3"
  },
  "language_info": {
   "codemirror_mode": {
    "name": "ipython",
    "version": 3
   },
   "file_extension": ".py",
   "mimetype": "text/x-python",
   "name": "python",
   "nbconvert_exporter": "python",
   "pygments_lexer": "ipython3",
   "version": "3.10.12"
  }
 },
 "nbformat": 4,
 "nbformat_minor": 5
}
