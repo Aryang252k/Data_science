a=1
b=1  
n=int(input("Enter a number: "))
print("0 1 1",end=" ")
for i in range(3,n):
  c=a+b
  print(c,end=" ")
  b=a
  a=c
  