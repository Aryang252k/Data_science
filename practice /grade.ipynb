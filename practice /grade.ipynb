{
 "cells": [
  {
   "cell_type": "code",
   "execution_count": 3,
   "id": "23b8bca3",
   "metadata": {},
   "outputs": [
    {
     "name": "stdout",
     "output_type": "stream",
     "text": [
      "Enter the percentage: 111\n",
      "Your grade: Z\n"
     ]
    }
   ],
   "source": [
    "num=int(input(\"Enter the percentage: \"))\n",
    "if num<=100 and num>=80:\n",
    "    print(\"Your grade: A\")\n",
    "elif num<=79 and num>=73:\n",
    "    print(\"Your grade: B\")\n",
    "elif num<=72 and num>=65:\n",
    "    print(\"Your grade: C\")\n",
    "elif num<=64 and num>=0:\n",
    "    print(\"Your grade: D\")\n",
    "else:\n",
    "    print(\"Your grade: Z\")"
   ]
  },
  {
   "cell_type": "code",
   "execution_count": null,
   "id": "3ac90def",
   "metadata": {},
   "outputs": [],
   "source": []
  },
  {
   "cell_type": "code",
   "execution_count": null,
   "id": "615a416d",
   "metadata": {},
   "outputs": [],
   "source": []
  },
  {
   "cell_type": "code",
   "execution_count": null,
   "id": "dd6a1acb",
   "metadata": {},
   "outputs": [],
   "source": []
  }
 ],
 "metadata": {
  "kernelspec": {
   "display_name": "Python 3 (ipykernel)",
   "language": "python",
   "name": "python3"
  },
  "language_info": {
   "codemirror_mode": {
    "name": "ipython",
    "version": 3
   },
   "file_extension": ".py",
   "mimetype": "text/x-python",
   "name": "python",
   "nbconvert_exporter": "python",
   "pygments_lexer": "ipython3",
   "version": "3.10.6"
  }
 },
 "nbformat": 4,
 "nbformat_minor": 5
}
