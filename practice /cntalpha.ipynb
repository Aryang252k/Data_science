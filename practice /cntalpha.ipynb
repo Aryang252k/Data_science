{
 "cells": [
  {
   "cell_type": "code",
   "execution_count": 39,
   "id": "5ea7c6a6",
   "metadata": {},
   "outputs": [
    {
     "name": "stdout",
     "output_type": "stream",
     "text": [
      "Enter the sting: AAbcca\n",
      "2A1B2C1A\n"
     ]
    }
   ],
   "source": [
    "string=input(\"Enter the sting: \")\n",
    "st=\"\"\n",
    "s=string.upper()\n",
    "cnt=1\n",
    "for i in range(len(s)-1):\n",
    "  if s[i]==s[i+1] :\n",
    "   cnt=cnt+1\n",
    "  else:\n",
    "   st=st+str(cnt)+s[i]\n",
    "   cnt=1\n",
    "  if i+2==len(s):\n",
    "   st=st+str(cnt)+s[i+1] \n",
    "\n",
    "print(st)"
   ]
  },
  {
   "cell_type": "code",
   "execution_count": null,
   "id": "62f94029",
   "metadata": {},
   "outputs": [],
   "source": []
  },
  {
   "cell_type": "code",
   "execution_count": null,
   "id": "8ce9fe18",
   "metadata": {},
   "outputs": [],
   "source": []
  },
  {
   "cell_type": "code",
   "execution_count": null,
   "id": "4904211b",
   "metadata": {},
   "outputs": [],
   "source": []
  },
  {
   "cell_type": "code",
   "execution_count": null,
   "id": "59a8ae70",
   "metadata": {},
   "outputs": [],
   "source": []
  }
 ],
 "metadata": {
  "kernelspec": {
   "display_name": "Python 3 (ipykernel)",
   "language": "python",
   "name": "python3"
  },
  "language_info": {
   "codemirror_mode": {
    "name": "ipython",
    "version": 3
   },
   "file_extension": ".py",
   "mimetype": "text/x-python",
   "name": "python",
   "nbconvert_exporter": "python",
   "pygments_lexer": "ipython3",
   "version": "3.10.6"
  }
 },
 "nbformat": 4,
 "nbformat_minor": 5
}
