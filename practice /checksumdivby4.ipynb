{
 "cells": [
  {
   "cell_type": "code",
   "execution_count": null,
   "id": "6f63b363",
   "metadata": {},
   "outputs": [
    {
     "name": "stdout",
     "output_type": "stream",
     "text": [
      "Enter a number: 5\n",
      "5 is not divisible by 4.\n",
      "Enter 1 to continue and 0 to exit.1\n",
      "Enter a number: 11\n",
      "16 is divisible by 4.\n"
     ]
    }
   ],
   "source": [
    "c=1\n",
    "temp=0\n",
    "while c!=0: \n",
    " a=int(input(\"Enter a number: \"))\n",
    " temp=temp+a\n",
    " if temp%4==0:\n",
    "  print(\"{} is divisible by 4.\".format(temp))\n",
    " else :\n",
    "  print(\"{} is not divisible by 4.\".format(temp))\n",
    " c=int(input(\"Enter 1 to continue and 0 to exit.\"))\n",
    " \n",
    " "
   ]
  },
  {
   "cell_type": "code",
   "execution_count": null,
   "id": "c6cf1a1f",
   "metadata": {},
   "outputs": [],
   "source": []
  }
 ],
 "metadata": {
  "kernelspec": {
   "display_name": "Python 3 (ipykernel)",
   "language": "python",
   "name": "python3"
  },
  "language_info": {
   "codemirror_mode": {
    "name": "ipython",
    "version": 3
   },
   "file_extension": ".py",
   "mimetype": "text/x-python",
   "name": "python",
   "nbconvert_exporter": "python",
   "pygments_lexer": "ipython3",
   "version": "3.10.6"
  }
 },
 "nbformat": 4,
 "nbformat_minor": 5
}
