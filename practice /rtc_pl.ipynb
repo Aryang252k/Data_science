{
 "cells": [
  {
   "cell_type": "code",
   "execution_count": 7,
   "id": "6b33d83d",
   "metadata": {},
   "outputs": [
    {
     "name": "stdout",
     "output_type": "stream",
     "text": [
      "Enter the distance: 200\n",
      "Enter the number of passengers: 2\n",
      "-1\n"
     ]
    }
   ],
   "source": [
    "\n",
    "price_liter=70\n",
    "mileage=10\n",
    "ticket_price=80\n",
    "\n",
    "def profit_loss(dist,passe):\n",
    "  cost=(dist/mileage)*price_liter\n",
    "  revenue=passe*ticket_price\n",
    "  if cost<revenue:\n",
    "   print(f'Profit: {revenue-cost}')\n",
    "  else:\n",
    "   print('-1')\n",
    " \n",
    "dist=int(input(\"Enter the distance: \"))\n",
    "no_pass=int(input(\"Enter the number of passengers: \"))\n",
    "\n",
    "profit_loss(dist,no_pass)"
   ]
  },
  {
   "cell_type": "code",
   "execution_count": null,
   "id": "9231bf23",
   "metadata": {},
   "outputs": [],
   "source": []
  }
 ],
 "metadata": {
  "kernelspec": {
   "display_name": "Python 3 (ipykernel)",
   "language": "python",
   "name": "python3"
  },
  "language_info": {
   "codemirror_mode": {
    "name": "ipython",
    "version": 3
   },
   "file_extension": ".py",
   "mimetype": "text/x-python",
   "name": "python",
   "nbconvert_exporter": "python",
   "pygments_lexer": "ipython3",
   "version": "3.10.6"
  }
 },
 "nbformat": 4,
 "nbformat_minor": 5
}
