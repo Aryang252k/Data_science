{
 "cells": [
  {
   "cell_type": "code",
   "execution_count": 1,
   "id": "e6cec6c1",
   "metadata": {},
   "outputs": [
    {
     "name": "stdout",
     "output_type": "stream",
     "text": [
      "Gems available: \n",
      "Emerald @ 1760\n",
      "Ivory @ 2119\n",
      "Jasper @ 1599\n",
      "Ruby @ 3920\n",
      "Garnet @ 3999\n",
      "Enter the name of gems: gold,ivory\n",
      "Enter the number of gems: 34,56\n",
      "Gold is not available,therefore order cancelled.\n",
      "Net payable amount is  -1\n"
     ]
    }
   ],
   "source": [
    "gems_list=[\"Emerald\",\"Ivory\",\"Jasper\",\"Ruby\",\"Garnet\"]\n",
    "price_list=[1760,2119,1599,3920,3999]\n",
    "print(\"Gems available: \")\n",
    "for i in range(5):\n",
    " print(\"{} @ {}\".format(gems_list[i],price_list[i]))\n",
    "reqd_gems=input(\"Enter the name of gems: \")\n",
    "reqd_gems=reqd_gems.split(\",\")\n",
    "j=0\n",
    "for i in reqd_gems:\n",
    " reqd_gems[j]=i.capitalize()\n",
    " j=j+1\n",
    "\n",
    "reqd_quantity=input(\"Enter the number of gems: \")\n",
    "reqd_quantity=reqd_quantity.split(\",\")\n",
    "j=0\n",
    "for i in reqd_quantity:\n",
    " reqd_quantity[j]=int(i)\n",
    " j=j+1\n",
    "\n",
    "amt=0\n",
    "for i in range(len(reqd_gems)):\n",
    " if reqd_gems[i] in gems_list:\n",
    "  print(\"{} quantity {} amount = {}\".format(reqd_gems[i],reqd_quantity[i],reqd_quantity[i]*price_list[gems_list.index(reqd_gems[i])]))  \n",
    "  amt=amt+reqd_quantity[i]*price_list[gems_list.index(reqd_gems[i])]\n",
    " else:\n",
    "   print(\"{} is not available,therefore order cancelled.\".format(reqd_gems[i]))\n",
    "   amt=-1\n",
    "   break\n",
    "if amt>30000:\n",
    " amt=amt-(amt*5/100)\n",
    "\n",
    "print(\"Net payable amount is \",amt) "
   ]
  },
  {
   "cell_type": "code",
   "execution_count": null,
   "id": "a4344189",
   "metadata": {},
   "outputs": [],
   "source": []
  },
  {
   "cell_type": "code",
   "execution_count": null,
   "id": "f037fcb3",
   "metadata": {},
   "outputs": [],
   "source": []
  },
  {
   "cell_type": "code",
   "execution_count": null,
   "id": "54313955",
   "metadata": {},
   "outputs": [],
   "source": []
  }
 ],
 "metadata": {
  "kernelspec": {
   "display_name": "Python 3 (ipykernel)",
   "language": "python",
   "name": "python3"
  },
  "language_info": {
   "codemirror_mode": {
    "name": "ipython",
    "version": 3
   },
   "file_extension": ".py",
   "mimetype": "text/x-python",
   "name": "python",
   "nbconvert_exporter": "python",
   "pygments_lexer": "ipython3",
   "version": "3.10.6"
  }
 },
 "nbformat": 4,
 "nbformat_minor": 5
}
