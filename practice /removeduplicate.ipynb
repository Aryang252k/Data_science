{
 "cells": [
  {
   "cell_type": "code",
   "execution_count": 2,
   "id": "d0325184",
   "metadata": {},
   "outputs": [
    {
     "name": "stdout",
     "output_type": "stream",
     "text": [
      "Enter the size of list: 10\n",
      "Enter the elements: \n",
      "9\n",
      "8\n",
      "7\n",
      "7\n",
      "4\n",
      "5\n",
      "5\n",
      "8\n",
      "1\n",
      "1\n",
      "[9, 8, 7, 4, 5, 1]\n"
     ]
    }
   ],
   "source": [
    "n=int(input(\"Enter the size of list: \"))\n",
    "print(\"Enter the elements: \")\n",
    "l=list()\n",
    "for i in range(n):# (start,stop,step)\n",
    "   a=int(input())\n",
    "   l.append(a)\n",
    "\n",
    "\n",
    "l1=list()\n",
    "\n",
    "for i in range(n):\n",
    "  for j in range(i+1,n):\n",
    "    if l[i] == l[j]:\n",
    "      ab=l[i] in l1\n",
    "      if ab == False:\n",
    "        l1.append(l[i])\n",
    "    else:\n",
    "       ab=l[i] in l1\n",
    "       if ab == False:\n",
    "         l1.append(l[i])\n",
    "     \n",
    "l=l1\n",
    "print(l)\n"
   ]
  },
  {
   "cell_type": "markdown",
   "id": "1c51a18b",
   "metadata": {},
   "source": [
    "# di={\n",
    "    \"ary\":1,\n",
    "    \"tu\": 2,\n",
    "    \"ab\": 5\n",
    "}\n",
    "\n",
    "\n",
    "    \n",
    "di.update({\"cd\":6})\n",
    "for i,j in di.items():\n",
    "    print(i,j)\n"
   ]
  },
  {
   "cell_type": "code",
   "execution_count": null,
   "id": "818647dc",
   "metadata": {},
   "outputs": [],
   "source": []
  },
  {
   "cell_type": "code",
   "execution_count": null,
   "id": "ff698859",
   "metadata": {},
   "outputs": [],
   "source": []
  }
 ],
 "metadata": {
  "kernelspec": {
   "display_name": "Python 3 (ipykernel)",
   "language": "python",
   "name": "python3"
  },
  "language_info": {
   "codemirror_mode": {
    "name": "ipython",
    "version": 3
   },
   "file_extension": ".py",
   "mimetype": "text/x-python",
   "name": "python",
   "nbconvert_exporter": "python",
   "pygments_lexer": "ipython3",
   "version": "3.10.6"
  }
 },
 "nbformat": 4,
 "nbformat_minor": 5
}
