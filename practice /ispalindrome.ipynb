{
 "cells": [
  {
   "cell_type": "code",
   "execution_count": 33,
   "id": "cfb71562",
   "metadata": {},
   "outputs": [
    {
     "name": "stdout",
     "output_type": "stream",
     "text": [
      "Enter a number: 121\n",
      "121 is palindrome.\n"
     ]
    }
   ],
   "source": [
    "a=input(\"Enter a number: \")\n",
    "b=a\n",
    "i=len(a)-1\n",
    "j=0\n",
    "cnt=0\n",
    "while i>=0:\n",
    "  if a[i]==b[j]:\n",
    "   cnt=cnt+1\n",
    "  \n",
    "  i=i-1\n",
    "  j=j+1\n",
    "\n",
    "if len(a)==cnt:\n",
    " print(\"{} is palindrome.\".format(a))\n",
    "else:\n",
    " print(\"{} is not palindrome.\".format(a))"
   ]
  },
  {
   "cell_type": "code",
   "execution_count": null,
   "id": "16c4203c",
   "metadata": {},
   "outputs": [],
   "source": []
  },
  {
   "cell_type": "code",
   "execution_count": null,
   "id": "15ad39ee",
   "metadata": {},
   "outputs": [],
   "source": []
  }
 ],
 "metadata": {
  "kernelspec": {
   "display_name": "Python 3 (ipykernel)",
   "language": "python",
   "name": "python3"
  },
  "language_info": {
   "codemirror_mode": {
    "name": "ipython",
    "version": 3
   },
   "file_extension": ".py",
   "mimetype": "text/x-python",
   "name": "python",
   "nbconvert_exporter": "python",
   "pygments_lexer": "ipython3",
   "version": "3.10.6"
  }
 },
 "nbformat": 4,
 "nbformat_minor": 5
}
