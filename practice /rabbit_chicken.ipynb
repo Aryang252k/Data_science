{
 "cells": [
  {
   "cell_type": "code",
   "execution_count": 9,
   "id": "e6250530",
   "metadata": {},
   "outputs": [
    {
     "name": "stdout",
     "output_type": "stream",
     "text": [
      "Enter the number of heads: 5\n",
      "Enter the number of legs: 10\n",
      "Nunber rabbits: 0 \n",
      "Number of chickens: 5\n"
     ]
    }
   ],
   "source": [
    "no_heads=int(input(\"Enter the number of heads: \"))\n",
    "no_legs=int(input(\"Enter the number of legs: \"))\n",
    "\n",
    "if no_legs%4==0:\n",
    " print(\"\"\"Nunber rabbits: {}  \n",
    "Number of chickens: {}\"\"\".format(int(no_legs/4),int(no_heads-(no_legs/4)))) \n",
    "elif no_legs%2==0:\n",
    " print(\"\"\"Nunber rabbits: {} \n",
    "Number of chickens: {}\"\"\".format(int(no_heads-(no_legs/2)),int(no_legs/2)))\n",
    "else:\n",
    " print(\"No solution\")\n",
    "       "
   ]
  },
  {
   "cell_type": "code",
   "execution_count": null,
   "id": "239a5837",
   "metadata": {},
   "outputs": [],
   "source": []
  },
  {
   "cell_type": "code",
   "execution_count": null,
   "id": "ec07d499",
   "metadata": {},
   "outputs": [],
   "source": []
  },
  {
   "cell_type": "code",
   "execution_count": null,
   "id": "b889d2d4",
   "metadata": {},
   "outputs": [],
   "source": []
  },
  {
   "cell_type": "code",
   "execution_count": null,
   "id": "c2e6b86e",
   "metadata": {},
   "outputs": [],
   "source": []
  }
 ],
 "metadata": {
  "kernelspec": {
   "display_name": "Python 3 (ipykernel)",
   "language": "python",
   "name": "python3"
  },
  "language_info": {
   "codemirror_mode": {
    "name": "ipython",
    "version": 3
   },
   "file_extension": ".py",
   "mimetype": "text/x-python",
   "name": "python",
   "nbconvert_exporter": "python",
   "pygments_lexer": "ipython3",
   "version": "3.10.6"
  }
 },
 "nbformat": 4,
 "nbformat_minor": 5
}
