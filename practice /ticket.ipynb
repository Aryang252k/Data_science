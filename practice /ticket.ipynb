{
 "cells": [
  {
   "cell_type": "code",
   "execution_count": 12,
   "id": "d1011a01",
   "metadata": {},
   "outputs": [
    {
     "name": "stdout",
     "output_type": "stream",
     "text": [
      "Enter airline: ai\n",
      "Enter the source: bangalore\n",
      "Enter the destination: london\n",
      "Enter the of passengers: 10\n",
      "['AI:Ban:Lon:106', 'AI:Ban:Lon:107', 'AI:Ban:Lon:108', 'AI:Ban:Lon:109', 'AI:Ban:Lon:110']\n"
     ]
    }
   ],
   "source": [
    "airline=input(\"Enter airline: \")\n",
    "src=input(\"Enter the source: \")\n",
    "dst=input(\"Enter the destination: \")\n",
    "no_of_pass=int(input(\"Enter the of passengers: \"))\n",
    "\n",
    "ls=list()\n",
    "if no_of_pass<=5:\n",
    " ticnum=101\n",
    " for i in range(no_of_pass):\n",
    "  dat=\"{}:{}:{}:{}\".format(airline.upper(),src[:3].capitalize(),dst[:3].capitalize(),ticnum)\n",
    "  ls.append(dat)\n",
    "  ticnum=ticnum+1\n",
    "else:\n",
    " ticnum=106\n",
    " for i in range(int(no_of_pass/2)):\n",
    "  dat=\"{}:{}:{}:{}\".format(airline.upper(),src[:3].capitalize(),dst[:3].capitalize(),ticnum)\n",
    "  ls.append(dat)\n",
    "  ticnum=ticnum+1   \n",
    "\n",
    "print(ls)\n",
    "\n",
    "\n"
   ]
  },
  {
   "cell_type": "code",
   "execution_count": null,
   "id": "48525740",
   "metadata": {},
   "outputs": [],
   "source": []
  },
  {
   "cell_type": "code",
   "execution_count": null,
   "id": "9bf63731",
   "metadata": {},
   "outputs": [],
   "source": []
  },
  {
   "cell_type": "code",
   "execution_count": null,
   "id": "f153fd93",
   "metadata": {},
   "outputs": [],
   "source": []
  }
 ],
 "metadata": {
  "kernelspec": {
   "display_name": "Python 3 (ipykernel)",
   "language": "python",
   "name": "python3"
  },
  "language_info": {
   "codemirror_mode": {
    "name": "ipython",
    "version": 3
   },
   "file_extension": ".py",
   "mimetype": "text/x-python",
   "name": "python",
   "nbconvert_exporter": "python",
   "pygments_lexer": "ipython3",
   "version": "3.10.6"
  }
 },
 "nbformat": 4,
 "nbformat_minor": 5
}
