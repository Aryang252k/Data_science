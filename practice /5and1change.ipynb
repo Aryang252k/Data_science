{
 "cells": [
  {
   "cell_type": "code",
   "execution_count": 1,
   "id": "36852583",
   "metadata": {},
   "outputs": [
    {
     "name": "stdout",
     "output_type": "stream",
     "text": [
      "Enter the amount: 222\n",
      "-1\n"
     ]
    }
   ],
   "source": [
    "amt=int(input(\"Enter the amount: \"))\n",
    "onecoin= amt%5\n",
    "fivnote=int(amt/5)\n",
    "if onecoin>1:\n",
    "    onecoin=-1\n",
    "    \n",
    "if onecoin==-1:\n",
    "  print(\"-1\")\n",
    "else:\n",
    "  print(\"\"\"\n",
    "Number of five rupee note : {}\n",
    "Number of five rupee note : {}\n",
    "\"\"\".format(fivnote,onecoin))"
   ]
  },
  {
   "cell_type": "code",
   "execution_count": null,
   "id": "372789cc",
   "metadata": {},
   "outputs": [],
   "source": []
  },
  {
   "cell_type": "code",
   "execution_count": null,
   "id": "364b161f",
   "metadata": {},
   "outputs": [],
   "source": []
  },
  {
   "cell_type": "code",
   "execution_count": null,
   "id": "129a529f",
   "metadata": {},
   "outputs": [],
   "source": []
  }
 ],
 "metadata": {
  "kernelspec": {
   "display_name": "Python 3 (ipykernel)",
   "language": "python",
   "name": "python3"
  },
  "language_info": {
   "codemirror_mode": {
    "name": "ipython",
    "version": 3
   },
   "file_extension": ".py",
   "mimetype": "text/x-python",
   "name": "python",
   "nbconvert_exporter": "python",
   "pygments_lexer": "ipython3",
   "version": "3.10.6"
  }
 },
 "nbformat": 4,
 "nbformat_minor": 5
}
