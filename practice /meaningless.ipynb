{
 "cells": [
  {
   "cell_type": "code",
   "execution_count": 1,
   "id": "e2a39012",
   "metadata": {},
   "outputs": [
    {
     "name": "stdout",
     "output_type": "stream",
     "text": [
      "Enter num1 (two digits): 15\n",
      "Enter num2 (two digits): 16\n",
      "6 7\n"
     ]
    },
    {
     "ename": "TypeError",
     "evalue": "unsupported operand type(s) for +: 'builtin_function_or_method' and 'int'",
     "output_type": "error",
     "traceback": [
      "\u001b[0;31m---------------------------------------------------------------------------\u001b[0m",
      "\u001b[0;31mTypeError\u001b[0m                                 Traceback (most recent call last)",
      "Cell \u001b[0;32mIn[1], line 23\u001b[0m\n\u001b[1;32m     19\u001b[0m   cnt\u001b[38;5;241m=\u001b[39mcnt\u001b[38;5;241m+\u001b[39m\u001b[38;5;241m1\u001b[39m\n\u001b[1;32m     21\u001b[0m \u001b[38;5;28mprint\u001b[39m(sum1,sum2)\n\u001b[0;32m---> 23\u001b[0m \u001b[38;5;28;01mif\u001b[39;00m (\u001b[38;5;28;43msum\u001b[39;49m\u001b[38;5;241;43m+\u001b[39;49m\u001b[38;5;241;43m1\u001b[39;49m)\u001b[38;5;241m%\u001b[39m\u001b[38;5;241m3\u001b[39m\u001b[38;5;241m==\u001b[39m\u001b[38;5;241m0\u001b[39m:\n\u001b[1;32m     24\u001b[0m  \u001b[38;5;28;01mif\u001b[39;00m cnt\u001b[38;5;241m==\u001b[39m\u001b[38;5;241m2\u001b[39m:\n\u001b[1;32m     25\u001b[0m   \u001b[38;5;28;01mif\u001b[39;00m num1\u001b[38;5;241m%\u001b[39m\u001b[38;5;241m5\u001b[39m\u001b[38;5;241m==\u001b[39m\u001b[38;5;241m0\u001b[39m \u001b[38;5;129;01mand\u001b[39;00m num2\u001b[38;5;241m%\u001b[39m\u001b[38;5;241m5\u001b[39m\u001b[38;5;241m==\u001b[39m\u001b[38;5;241m0\u001b[39m:\n",
      "\u001b[0;31mTypeError\u001b[0m: unsupported operand type(s) for +: 'builtin_function_or_method' and 'int'"
     ]
    }
   ],
   "source": [
    "num1=int(input(\"Enter num1 (two digits): \"))\n",
    "num2=int(input(\"Enter num2 (two digits): \"))\n",
    "ls=list()\n",
    "temp1=0\n",
    "temp2=0\n",
    "cnt=0\n",
    "sum1=0\n",
    "sum2=0\n",
    "if num1<num2:\n",
    " while num1>0 and num2>0 :\n",
    "  temp1=num1%10\n",
    "  temp2=num2%10\n",
    "  sum1=sum1+temp1\n",
    "  sum2=sum2+temp2\n",
    "  ls.append(temp1)\n",
    "  ls.append(temp2)\n",
    "  num1=int(num1/10)\n",
    "  num2=int(num2/10)\n",
    "  cnt=cnt+1\n",
    "\n",
    "   print(\"Max element of {} : {}\".format(ls,max(ls)))\n",
    "\n",
    "if sum1%3==0 and sum2%3==0:\n",
    " if cnt==2:\n",
    "  if num1%5==0 and num2%5==0:\n",
    "   print(\"Max element of {} : {}\".format(ls,max(ls)))\n",
    "else:\n",
    " print(\"-1\")\n",
    "   "
   ]
  },
  {
   "cell_type": "code",
   "execution_count": null,
   "id": "e29e13b1",
   "metadata": {},
   "outputs": [],
   "source": []
  },
  {
   "cell_type": "code",
   "execution_count": null,
   "id": "260fcec4",
   "metadata": {},
   "outputs": [],
   "source": []
  }
 ],
 "metadata": {
  "kernelspec": {
   "display_name": "Python 3 (ipykernel)",
   "language": "python",
   "name": "python3"
  },
  "language_info": {
   "codemirror_mode": {
    "name": "ipython",
    "version": 3
   },
   "file_extension": ".py",
   "mimetype": "text/x-python",
   "name": "python",
   "nbconvert_exporter": "python",
   "pygments_lexer": "ipython3",
   "version": "3.10.6"
  }
 },
 "nbformat": 4,
 "nbformat_minor": 5
}
