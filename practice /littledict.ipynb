{
 "cells": [
  {
   "cell_type": "code",
   "execution_count": 5,
   "id": "563ee7cc",
   "metadata": {},
   "outputs": [
    {
     "ename": "KeyError",
     "evalue": "''",
     "output_type": "error",
     "traceback": [
      "\u001b[0;31m---------------------------------------------------------------------------\u001b[0m",
      "\u001b[0;31mKeyError\u001b[0m                                  Traceback (most recent call last)",
      "Cell \u001b[0;32mIn[5], line 27\u001b[0m\n\u001b[1;32m     24\u001b[0m  \u001b[38;5;28;01mreturn\u001b[39;00m stls\n\u001b[1;32m     26\u001b[0m strin\u001b[38;5;241m=\u001b[39m\u001b[38;5;124m\"\u001b[39m\u001b[38;5;124mmerry christmas and happy new \u001b[39m\u001b[38;5;124m\"\u001b[39m\n\u001b[0;32m---> 27\u001b[0m st\u001b[38;5;241m=\u001b[39m\u001b[43mtranslate\u001b[49m\u001b[43m(\u001b[49m\u001b[43mbilingual\u001b[49m\u001b[43m,\u001b[49m\u001b[43mstrin\u001b[49m\u001b[43m)\u001b[49m\n\u001b[1;32m     28\u001b[0m \u001b[38;5;28mprint\u001b[39m(st)\n",
      "Cell \u001b[0;32mIn[5], line 15\u001b[0m, in \u001b[0;36mtranslate\u001b[0;34m(bilual, string)\u001b[0m\n\u001b[1;32m     13\u001b[0m strar\u001b[38;5;241m=\u001b[39mstring\u001b[38;5;241m.\u001b[39msplit(\u001b[38;5;124m\"\u001b[39m\u001b[38;5;124m \u001b[39m\u001b[38;5;124m\"\u001b[39m)\n\u001b[1;32m     14\u001b[0m \u001b[38;5;28;01mfor\u001b[39;00m i \u001b[38;5;129;01min\u001b[39;00m strar:\n\u001b[0;32m---> 15\u001b[0m  \u001b[38;5;28;01mif\u001b[39;00m \u001b[43mbilual\u001b[49m\u001b[43m[\u001b[49m\u001b[43mi\u001b[49m\u001b[43m]\u001b[49m\u001b[38;5;241m==\u001b[39m\u001b[38;5;124m\"\u001b[39m\u001b[38;5;124m \u001b[39m\u001b[38;5;124m\"\u001b[39m:\n\u001b[1;32m     16\u001b[0m    \u001b[38;5;28;01mcontinue\u001b[39;00m \n\u001b[1;32m     17\u001b[0m  \u001b[38;5;28;01melse\u001b[39;00m:\n",
      "\u001b[0;31mKeyError\u001b[0m: ''"
     ]
    }
   ],
   "source": [
    "bilingual={\n",
    "    \"merry\":\"god\",\n",
    "    \"christmas\":\"jul\",\n",
    "    \"and\":\"och\",\n",
    "    \"happy\":\"gott\",\n",
    "    \"new\":\"nytt\",\n",
    "    \"year\":\"ar\"\n",
    "}\n",
    "\n",
    "def translate(bilual,string):\n",
    " string.lower()\n",
    " stls=\"\"\n",
    " strar=string.split(\" \")\n",
    " for i in strar:\n",
    "  if bilual[i]==\" \":\n",
    "    continu\n",
    "  else:\n",
    "   try:\n",
    "    stls+=bilual[i]\n",
    "    stls+=\" \"\n",
    "   except KeyError as e:\n",
    "    return \"Not found {}\".format(e)\n",
    "\n",
    " return stls\n",
    "\n",
    "strin=\"merry christmas and happy new \"\n",
    "st=translate(bilingual,strin)\n",
    "print(st)"
   ]
  },
  {
   "cell_type": "code",
   "execution_count": null,
   "id": "758b345b",
   "metadata": {},
   "outputs": [],
   "source": []
  },
  {
   "cell_type": "code",
   "execution_count": null,
   "id": "fa5a2342",
   "metadata": {},
   "outputs": [],
   "source": []
  }
 ],
 "metadata": {
  "kernelspec": {
   "display_name": "Python 3 (ipykernel)",
   "language": "python",
   "name": "python3"
  },
  "language_info": {
   "codemirror_mode": {
    "name": "ipython",
    "version": 3
   },
   "file_extension": ".py",
   "mimetype": "text/x-python",
   "name": "python",
   "nbconvert_exporter": "python",
   "pygments_lexer": "ipython3",
   "version": "3.10.6"
  }
 },
 "nbformat": 4,
 "nbformat_minor": 5
}
