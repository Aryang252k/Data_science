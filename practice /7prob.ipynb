{
 "cells": [
  {
   "cell_type": "code",
   "execution_count": 4,
   "id": "c1d8f1bc",
   "metadata": {},
   "outputs": [
    {
     "name": "stdout",
     "output_type": "stream",
     "text": [
      "Enter three number: \n",
      "7\n",
      "2\n",
      "3\n",
      "Product: 6\n"
     ]
    }
   ],
   "source": [
    "print(\"Enter three number: \")\n",
    "a=list()\n",
    "for i in range(3):\n",
    " b=int(input())\n",
    " a.append(b)\n",
    "\n",
    "\n",
    "if a[2]==7:\n",
    " print(\"Product: -1\")\n",
    "elif a[1]==7:\n",
    " print(\"Product: {}\".format(a[2]))\n",
    "elif a[0]==7:\n",
    " print(\"Product: {}\".format(a[1]*a[2]))\n",
    "else:\n",
    " print(\"Product: {}\".format(a[0]*a[1]*a[2]))"
   ]
  },
  {
   "cell_type": "code",
   "execution_count": null,
   "id": "c3b75ce9",
   "metadata": {},
   "outputs": [],
   "source": []
  },
  {
   "cell_type": "code",
   "execution_count": null,
   "id": "2722a5e9",
   "metadata": {},
   "outputs": [],
   "source": []
  }
 ],
 "metadata": {
  "kernelspec": {
   "display_name": "Python 3 (ipykernel)",
   "language": "python",
   "name": "python3"
  },
  "language_info": {
   "codemirror_mode": {
    "name": "ipython",
    "version": 3
   },
   "file_extension": ".py",
   "mimetype": "text/x-python",
   "name": "python",
   "nbconvert_exporter": "python",
   "pygments_lexer": "ipython3",
   "version": "3.10.6"
  }
 },
 "nbformat": 4,
 "nbformat_minor": 5
}
