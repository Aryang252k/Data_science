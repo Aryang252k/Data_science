{
 "cells": [
  {
   "cell_type": "code",
   "execution_count": 11,
   "id": "28f670bd",
   "metadata": {},
   "outputs": [
    {
     "name": "stdout",
     "output_type": "stream",
     "text": [
      "Enter a sting to check palindrome: abc\n",
      "ABC\n",
      "False\n"
     ]
    }
   ],
   "source": [
    "def check_palindrome(string):\n",
    "  s=string.upper()\n",
    "  check_str=s\n",
    "  print(check_str)\n",
    "  l=0\n",
    "  for i in range(len(string)-1,0,-1):\n",
    "   if s[i]==check_str[l]:\n",
    "     l=l+1\n",
    "   else:\n",
    "    return False\n",
    "   \n",
    "   return True\n",
    "string=input(\"Enter a sting to check palindrome: \")\n",
    "cd=check_palindrome(string)\n",
    "print(cd)"
   ]
  },
  {
   "cell_type": "code",
   "execution_count": null,
   "id": "916104ce",
   "metadata": {},
   "outputs": [],
   "source": []
  },
  {
   "cell_type": "code",
   "execution_count": null,
   "id": "fb8f4f1c",
   "metadata": {},
   "outputs": [],
   "source": []
  }
 ],
 "metadata": {
  "kernelspec": {
   "display_name": "Python 3 (ipykernel)",
   "language": "python",
   "name": "python3"
  },
  "language_info": {
   "codemirror_mode": {
    "name": "ipython",
    "version": 3
   },
   "file_extension": ".py",
   "mimetype": "text/x-python",
   "name": "python",
   "nbconvert_exporter": "python",
   "pygments_lexer": "ipython3",
   "version": "3.10.6"
  }
 },
 "nbformat": 4,
 "nbformat_minor": 5
}
