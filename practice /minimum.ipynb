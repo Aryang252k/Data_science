{
 "cells": [
  {
   "cell_type": "code",
   "execution_count": 19,
   "id": "936ec0ab",
   "metadata": {},
   "outputs": [
    {
     "name": "stdout",
     "output_type": "stream",
     "text": [
      "Enter a number: 1\n",
      "Enter a number: 1\n",
      "Enter a number: 2\n",
      "1 is minimum.\n"
     ]
    }
   ],
   "source": [
    "a=list()\n",
    "for i in range(3):\n",
    "    a.append(int(input(\"Enter a number: \")))\n",
    "    \n",
    "\n",
    "if a[0]<=a[1] and a[0]<=a[2]:\n",
    "  print(\"{} is minimum.\".format(a[0]))\n",
    "elif a[1]<=a[2]:\n",
    "  print(\"{} is minimum.\".format(a[1]))\n",
    "else:\n",
    "  print(\"{} is minimum.\".format(a[2])) "
   ]
  },
  {
   "cell_type": "code",
   "execution_count": null,
   "id": "67bcaf85",
   "metadata": {},
   "outputs": [],
   "source": []
  },
  {
   "cell_type": "code",
   "execution_count": null,
   "id": "789a875b",
   "metadata": {},
   "outputs": [],
   "source": []
  },
  {
   "cell_type": "code",
   "execution_count": null,
   "id": "8957b9b9",
   "metadata": {},
   "outputs": [],
   "source": []
  }
 ],
 "metadata": {
  "kernelspec": {
   "display_name": "Python 3 (ipykernel)",
   "language": "python",
   "name": "python3"
  },
  "language_info": {
   "codemirror_mode": {
    "name": "ipython",
    "version": 3
   },
   "file_extension": ".py",
   "mimetype": "text/x-python",
   "name": "python",
   "nbconvert_exporter": "python",
   "pygments_lexer": "ipython3",
   "version": "3.10.6"
  }
 },
 "nbformat": 4,
 "nbformat_minor": 5
}
