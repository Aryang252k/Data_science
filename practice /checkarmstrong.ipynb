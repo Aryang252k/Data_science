{
 "cells": [
  {
   "cell_type": "code",
   "execution_count": 9,
   "id": "aab9e6d0",
   "metadata": {},
   "outputs": [
    {
     "name": "stdout",
     "output_type": "stream",
     "text": [
      "Enter a number: 1634\n",
      "1634 is armstrong number.\n"
     ]
    }
   ],
   "source": [
    " import math as m\n",
    "num=input(\"Enter a number: \")\n",
    "nlen=len(num)\n",
    "temp=0\n",
    "pw=int(num[nlen-1])\n",
    "for i in range(nlen):\n",
    "  n=int(num[i])  \n",
    "  temp=temp+m.pow(n,nlen)\n",
    " \n",
    "if temp==int(num):\n",
    "  print(\"{} is armstrong number.\".format(num))\n",
    "else:\n",
    "  print(\"{} is not armstrong number.\".format(num))"
   ]
  },
  {
   "cell_type": "code",
   "execution_count": null,
   "id": "469479ca",
   "metadata": {},
   "outputs": [],
   "source": []
  }
 ],
 "metadata": {
  "kernelspec": {
   "display_name": "Python 3 (ipykernel)",
   "language": "python",
   "name": "python3"
  },
  "language_info": {
   "codemirror_mode": {
    "name": "ipython",
    "version": 3
   },
   "file_extension": ".py",
   "mimetype": "text/x-python",
   "name": "python",
   "nbconvert_exporter": "python",
   "pygments_lexer": "ipython3",
   "version": "3.10.6"
  }
 },
 "nbformat": 4,
 "nbformat_minor": 5
}
